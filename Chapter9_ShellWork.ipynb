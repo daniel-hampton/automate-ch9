{
 "cells": [
  {
   "cell_type": "markdown",
   "metadata": {},
   "source": [
    "- Not going to do all these commands in the notebook as they involve creating a bunch of dummy files or directories.\n",
    "- Commands:\n",
    "    - shutil.copy(source, destination)\n",
    "    - shutil.copytree(source, destination)\n",
    "    - shutil.move(source, destination)\n",
    "        - shutil.move will overwrite a file if it already exists in a destination.\n",
    "    - os.unlink(path) will delete file at *path*\n",
    "    - os.rmdir(path) will delete the folder at *path*. It must be empty of files and folders.\n",
    "    \n",
    "    - shutil.rmtree(path) will delete the folder at *path* and any files or folders it contains.\n",
    "    \n"
   ]
  },
  {
   "cell_type": "markdown",
   "metadata": {},
   "source": [
    "**remember when using os.unlink() that it is advisable to first #comment it out and use print(filename) before running the unlink code.**"
   ]
  },
  {
   "cell_type": "markdown",
   "metadata": {},
   "source": [
    "### send2trash module"
   ]
  },
  {
   "cell_type": "code",
   "execution_count": 1,
   "metadata": {
    "collapsed": true
   },
   "outputs": [],
   "source": [
    "import send2trash"
   ]
  },
  {
   "cell_type": "code",
   "execution_count": 2,
   "metadata": {
    "collapsed": false
   },
   "outputs": [
    {
     "data": {
      "text/plain": [
       "25"
      ]
     },
     "execution_count": 2,
     "metadata": {},
     "output_type": "execute_result"
    }
   ],
   "source": [
    "baconFile = open('bacon.txt', 'a') # creates the file\n",
    "baconFile.write('Bacon is not a vegetable.')"
   ]
  },
  {
   "cell_type": "code",
   "execution_count": 3,
   "metadata": {
    "collapsed": true
   },
   "outputs": [],
   "source": [
    "baconFile.close()"
   ]
  },
  {
   "cell_type": "code",
   "execution_count": 4,
   "metadata": {
    "collapsed": true
   },
   "outputs": [],
   "source": [
    "send2trash.send2trash('bacon.txt')"
   ]
  },
  {
   "cell_type": "code",
   "execution_count": 6,
   "metadata": {
    "collapsed": false
   },
   "outputs": [
    {
     "name": "stdout",
     "output_type": "stream",
     "text": [
      "The current folder is C:\\Users\\HOME4400\\PycharmProjects\\AutomateTheBoringStuff\n",
      "SUBFOLDER OF C:\\Users\\HOME4400\\PycharmProjects\\AutomateTheBoringStuff: .git\n",
      "SUBFOLDER OF C:\\Users\\HOME4400\\PycharmProjects\\AutomateTheBoringStuff: Chapter7_RegularExpressions\n",
      "SUBFOLDER OF C:\\Users\\HOME4400\\PycharmProjects\\AutomateTheBoringStuff: Chapter8_ReadingAndWritingFiles\n",
      "SUBFOLDER OF C:\\Users\\HOME4400\\PycharmProjects\\AutomateTheBoringStuff: Chapter9_OrganizingFiles\n",
      "\n",
      "The current folder is C:\\Users\\HOME4400\\PycharmProjects\\AutomateTheBoringStuff\\.git\n",
      "SUBFOLDER OF C:\\Users\\HOME4400\\PycharmProjects\\AutomateTheBoringStuff\\.git: hooks\n",
      "SUBFOLDER OF C:\\Users\\HOME4400\\PycharmProjects\\AutomateTheBoringStuff\\.git: info\n",
      "SUBFOLDER OF C:\\Users\\HOME4400\\PycharmProjects\\AutomateTheBoringStuff\\.git: objects\n",
      "SUBFOLDER OF C:\\Users\\HOME4400\\PycharmProjects\\AutomateTheBoringStuff\\.git: refs\n",
      "FILE INSIDE C:\\Users\\HOME4400\\PycharmProjects\\AutomateTheBoringStuff\\.git: config\n",
      "FILE INSIDE C:\\Users\\HOME4400\\PycharmProjects\\AutomateTheBoringStuff\\.git: description\n",
      "FILE INSIDE C:\\Users\\HOME4400\\PycharmProjects\\AutomateTheBoringStuff\\.git: HEAD\n",
      "\n",
      "The current folder is C:\\Users\\HOME4400\\PycharmProjects\\AutomateTheBoringStuff\\.git\\hooks\n",
      "FILE INSIDE C:\\Users\\HOME4400\\PycharmProjects\\AutomateTheBoringStuff\\.git\\hooks: applypatch-msg.sample\n",
      "FILE INSIDE C:\\Users\\HOME4400\\PycharmProjects\\AutomateTheBoringStuff\\.git\\hooks: commit-msg.sample\n",
      "FILE INSIDE C:\\Users\\HOME4400\\PycharmProjects\\AutomateTheBoringStuff\\.git\\hooks: post-update.sample\n",
      "FILE INSIDE C:\\Users\\HOME4400\\PycharmProjects\\AutomateTheBoringStuff\\.git\\hooks: pre-applypatch.sample\n",
      "FILE INSIDE C:\\Users\\HOME4400\\PycharmProjects\\AutomateTheBoringStuff\\.git\\hooks: pre-commit.sample\n",
      "FILE INSIDE C:\\Users\\HOME4400\\PycharmProjects\\AutomateTheBoringStuff\\.git\\hooks: pre-push.sample\n",
      "FILE INSIDE C:\\Users\\HOME4400\\PycharmProjects\\AutomateTheBoringStuff\\.git\\hooks: pre-rebase.sample\n",
      "FILE INSIDE C:\\Users\\HOME4400\\PycharmProjects\\AutomateTheBoringStuff\\.git\\hooks: pre-receive.sample\n",
      "FILE INSIDE C:\\Users\\HOME4400\\PycharmProjects\\AutomateTheBoringStuff\\.git\\hooks: prepare-commit-msg.sample\n",
      "FILE INSIDE C:\\Users\\HOME4400\\PycharmProjects\\AutomateTheBoringStuff\\.git\\hooks: update.sample\n",
      "\n",
      "The current folder is C:\\Users\\HOME4400\\PycharmProjects\\AutomateTheBoringStuff\\.git\\info\n",
      "FILE INSIDE C:\\Users\\HOME4400\\PycharmProjects\\AutomateTheBoringStuff\\.git\\info: exclude\n",
      "\n",
      "The current folder is C:\\Users\\HOME4400\\PycharmProjects\\AutomateTheBoringStuff\\.git\\objects\n",
      "SUBFOLDER OF C:\\Users\\HOME4400\\PycharmProjects\\AutomateTheBoringStuff\\.git\\objects: info\n",
      "SUBFOLDER OF C:\\Users\\HOME4400\\PycharmProjects\\AutomateTheBoringStuff\\.git\\objects: pack\n",
      "\n",
      "The current folder is C:\\Users\\HOME4400\\PycharmProjects\\AutomateTheBoringStuff\\.git\\objects\\info\n",
      "\n",
      "The current folder is C:\\Users\\HOME4400\\PycharmProjects\\AutomateTheBoringStuff\\.git\\objects\\pack\n",
      "\n",
      "The current folder is C:\\Users\\HOME4400\\PycharmProjects\\AutomateTheBoringStuff\\.git\\refs\n",
      "SUBFOLDER OF C:\\Users\\HOME4400\\PycharmProjects\\AutomateTheBoringStuff\\.git\\refs: heads\n",
      "SUBFOLDER OF C:\\Users\\HOME4400\\PycharmProjects\\AutomateTheBoringStuff\\.git\\refs: tags\n",
      "\n",
      "The current folder is C:\\Users\\HOME4400\\PycharmProjects\\AutomateTheBoringStuff\\.git\\refs\\heads\n",
      "\n",
      "The current folder is C:\\Users\\HOME4400\\PycharmProjects\\AutomateTheBoringStuff\\.git\\refs\\tags\n",
      "\n",
      "The current folder is C:\\Users\\HOME4400\\PycharmProjects\\AutomateTheBoringStuff\\Chapter7_RegularExpressions\n",
      "SUBFOLDER OF C:\\Users\\HOME4400\\PycharmProjects\\AutomateTheBoringStuff\\Chapter7_RegularExpressions: .git\n",
      "SUBFOLDER OF C:\\Users\\HOME4400\\PycharmProjects\\AutomateTheBoringStuff\\Chapter7_RegularExpressions: .idea\n",
      "SUBFOLDER OF C:\\Users\\HOME4400\\PycharmProjects\\AutomateTheBoringStuff\\Chapter7_RegularExpressions: .ipynb_checkpoints\n",
      "SUBFOLDER OF C:\\Users\\HOME4400\\PycharmProjects\\AutomateTheBoringStuff\\Chapter7_RegularExpressions: .spyproject\n",
      "SUBFOLDER OF C:\\Users\\HOME4400\\PycharmProjects\\AutomateTheBoringStuff\\Chapter7_RegularExpressions: __pycache__\n",
      "FILE INSIDE C:\\Users\\HOME4400\\PycharmProjects\\AutomateTheBoringStuff\\Chapter7_RegularExpressions: .gitignore\n",
      "FILE INSIDE C:\\Users\\HOME4400\\PycharmProjects\\AutomateTheBoringStuff\\Chapter7_RegularExpressions: isPhoneNumber.py\n",
      "FILE INSIDE C:\\Users\\HOME4400\\PycharmProjects\\AutomateTheBoringStuff\\Chapter7_RegularExpressions: phoneAndEmail-modified.py\n",
      "FILE INSIDE C:\\Users\\HOME4400\\PycharmProjects\\AutomateTheBoringStuff\\Chapter7_RegularExpressions: phoneAndEmail.py\n",
      "FILE INSIDE C:\\Users\\HOME4400\\PycharmProjects\\AutomateTheBoringStuff\\Chapter7_RegularExpressions: projectStrongPasswordDetection.py\n",
      "FILE INSIDE C:\\Users\\HOME4400\\PycharmProjects\\AutomateTheBoringStuff\\Chapter7_RegularExpressions: question20-replaceNoCommas.py\n",
      "FILE INSIDE C:\\Users\\HOME4400\\PycharmProjects\\AutomateTheBoringStuff\\Chapter7_RegularExpressions: question20.py\n",
      "FILE INSIDE C:\\Users\\HOME4400\\PycharmProjects\\AutomateTheBoringStuff\\Chapter7_RegularExpressions: question21.py\n",
      "FILE INSIDE C:\\Users\\HOME4400\\PycharmProjects\\AutomateTheBoringStuff\\Chapter7_RegularExpressions: question22.py\n",
      "FILE INSIDE C:\\Users\\HOME4400\\PycharmProjects\\AutomateTheBoringStuff\\Chapter7_RegularExpressions: regexStrip.py\n",
      "\n",
      "The current folder is C:\\Users\\HOME4400\\PycharmProjects\\AutomateTheBoringStuff\\Chapter7_RegularExpressions\\.git\n",
      "SUBFOLDER OF C:\\Users\\HOME4400\\PycharmProjects\\AutomateTheBoringStuff\\Chapter7_RegularExpressions\\.git: hooks\n",
      "SUBFOLDER OF C:\\Users\\HOME4400\\PycharmProjects\\AutomateTheBoringStuff\\Chapter7_RegularExpressions\\.git: info\n",
      "SUBFOLDER OF C:\\Users\\HOME4400\\PycharmProjects\\AutomateTheBoringStuff\\Chapter7_RegularExpressions\\.git: logs\n",
      "SUBFOLDER OF C:\\Users\\HOME4400\\PycharmProjects\\AutomateTheBoringStuff\\Chapter7_RegularExpressions\\.git: objects\n",
      "SUBFOLDER OF C:\\Users\\HOME4400\\PycharmProjects\\AutomateTheBoringStuff\\Chapter7_RegularExpressions\\.git: refs\n",
      "FILE INSIDE C:\\Users\\HOME4400\\PycharmProjects\\AutomateTheBoringStuff\\Chapter7_RegularExpressions\\.git: COMMIT_EDITMSG\n",
      "FILE INSIDE C:\\Users\\HOME4400\\PycharmProjects\\AutomateTheBoringStuff\\Chapter7_RegularExpressions\\.git: config\n",
      "FILE INSIDE C:\\Users\\HOME4400\\PycharmProjects\\AutomateTheBoringStuff\\Chapter7_RegularExpressions\\.git: description\n",
      "FILE INSIDE C:\\Users\\HOME4400\\PycharmProjects\\AutomateTheBoringStuff\\Chapter7_RegularExpressions\\.git: FETCH_HEAD\n",
      "FILE INSIDE C:\\Users\\HOME4400\\PycharmProjects\\AutomateTheBoringStuff\\Chapter7_RegularExpressions\\.git: HEAD\n",
      "FILE INSIDE C:\\Users\\HOME4400\\PycharmProjects\\AutomateTheBoringStuff\\Chapter7_RegularExpressions\\.git: index\n",
      "FILE INSIDE C:\\Users\\HOME4400\\PycharmProjects\\AutomateTheBoringStuff\\Chapter7_RegularExpressions\\.git: ORIG_HEAD\n",
      "\n",
      "The current folder is C:\\Users\\HOME4400\\PycharmProjects\\AutomateTheBoringStuff\\Chapter7_RegularExpressions\\.git\\hooks\n",
      "FILE INSIDE C:\\Users\\HOME4400\\PycharmProjects\\AutomateTheBoringStuff\\Chapter7_RegularExpressions\\.git\\hooks: applypatch-msg.sample\n",
      "FILE INSIDE C:\\Users\\HOME4400\\PycharmProjects\\AutomateTheBoringStuff\\Chapter7_RegularExpressions\\.git\\hooks: commit-msg.sample\n",
      "FILE INSIDE C:\\Users\\HOME4400\\PycharmProjects\\AutomateTheBoringStuff\\Chapter7_RegularExpressions\\.git\\hooks: post-update.sample\n",
      "FILE INSIDE C:\\Users\\HOME4400\\PycharmProjects\\AutomateTheBoringStuff\\Chapter7_RegularExpressions\\.git\\hooks: pre-applypatch.sample\n",
      "FILE INSIDE C:\\Users\\HOME4400\\PycharmProjects\\AutomateTheBoringStuff\\Chapter7_RegularExpressions\\.git\\hooks: pre-commit.sample\n",
      "FILE INSIDE C:\\Users\\HOME4400\\PycharmProjects\\AutomateTheBoringStuff\\Chapter7_RegularExpressions\\.git\\hooks: pre-push.sample\n",
      "FILE INSIDE C:\\Users\\HOME4400\\PycharmProjects\\AutomateTheBoringStuff\\Chapter7_RegularExpressions\\.git\\hooks: pre-rebase.sample\n",
      "FILE INSIDE C:\\Users\\HOME4400\\PycharmProjects\\AutomateTheBoringStuff\\Chapter7_RegularExpressions\\.git\\hooks: pre-receive.sample\n",
      "FILE INSIDE C:\\Users\\HOME4400\\PycharmProjects\\AutomateTheBoringStuff\\Chapter7_RegularExpressions\\.git\\hooks: prepare-commit-msg.sample\n",
      "FILE INSIDE C:\\Users\\HOME4400\\PycharmProjects\\AutomateTheBoringStuff\\Chapter7_RegularExpressions\\.git\\hooks: update.sample\n",
      "\n",
      "The current folder is C:\\Users\\HOME4400\\PycharmProjects\\AutomateTheBoringStuff\\Chapter7_RegularExpressions\\.git\\info\n",
      "FILE INSIDE C:\\Users\\HOME4400\\PycharmProjects\\AutomateTheBoringStuff\\Chapter7_RegularExpressions\\.git\\info: exclude\n",
      "\n",
      "The current folder is C:\\Users\\HOME4400\\PycharmProjects\\AutomateTheBoringStuff\\Chapter7_RegularExpressions\\.git\\logs\n",
      "SUBFOLDER OF C:\\Users\\HOME4400\\PycharmProjects\\AutomateTheBoringStuff\\Chapter7_RegularExpressions\\.git\\logs: refs\n",
      "FILE INSIDE C:\\Users\\HOME4400\\PycharmProjects\\AutomateTheBoringStuff\\Chapter7_RegularExpressions\\.git\\logs: HEAD\n",
      "\n",
      "The current folder is C:\\Users\\HOME4400\\PycharmProjects\\AutomateTheBoringStuff\\Chapter7_RegularExpressions\\.git\\logs\\refs\n",
      "SUBFOLDER OF C:\\Users\\HOME4400\\PycharmProjects\\AutomateTheBoringStuff\\Chapter7_RegularExpressions\\.git\\logs\\refs: heads\n",
      "SUBFOLDER OF C:\\Users\\HOME4400\\PycharmProjects\\AutomateTheBoringStuff\\Chapter7_RegularExpressions\\.git\\logs\\refs: remotes\n",
      "\n",
      "The current folder is C:\\Users\\HOME4400\\PycharmProjects\\AutomateTheBoringStuff\\Chapter7_RegularExpressions\\.git\\logs\\refs\\heads\n",
      "FILE INSIDE C:\\Users\\HOME4400\\PycharmProjects\\AutomateTheBoringStuff\\Chapter7_RegularExpressions\\.git\\logs\\refs\\heads: master\n",
      "\n",
      "The current folder is C:\\Users\\HOME4400\\PycharmProjects\\AutomateTheBoringStuff\\Chapter7_RegularExpressions\\.git\\logs\\refs\\remotes\n",
      "SUBFOLDER OF C:\\Users\\HOME4400\\PycharmProjects\\AutomateTheBoringStuff\\Chapter7_RegularExpressions\\.git\\logs\\refs\\remotes: origin\n",
      "\n",
      "The current folder is C:\\Users\\HOME4400\\PycharmProjects\\AutomateTheBoringStuff\\Chapter7_RegularExpressions\\.git\\logs\\refs\\remotes\\origin\n",
      "FILE INSIDE C:\\Users\\HOME4400\\PycharmProjects\\AutomateTheBoringStuff\\Chapter7_RegularExpressions\\.git\\logs\\refs\\remotes\\origin: master\n",
      "\n",
      "The current folder is C:\\Users\\HOME4400\\PycharmProjects\\AutomateTheBoringStuff\\Chapter7_RegularExpressions\\.git\\objects\n",
      "SUBFOLDER OF C:\\Users\\HOME4400\\PycharmProjects\\AutomateTheBoringStuff\\Chapter7_RegularExpressions\\.git\\objects: 07\n",
      "SUBFOLDER OF C:\\Users\\HOME4400\\PycharmProjects\\AutomateTheBoringStuff\\Chapter7_RegularExpressions\\.git\\objects: 0c\n",
      "SUBFOLDER OF C:\\Users\\HOME4400\\PycharmProjects\\AutomateTheBoringStuff\\Chapter7_RegularExpressions\\.git\\objects: 11\n",
      "SUBFOLDER OF C:\\Users\\HOME4400\\PycharmProjects\\AutomateTheBoringStuff\\Chapter7_RegularExpressions\\.git\\objects: 17\n",
      "SUBFOLDER OF C:\\Users\\HOME4400\\PycharmProjects\\AutomateTheBoringStuff\\Chapter7_RegularExpressions\\.git\\objects: 1c\n",
      "SUBFOLDER OF C:\\Users\\HOME4400\\PycharmProjects\\AutomateTheBoringStuff\\Chapter7_RegularExpressions\\.git\\objects: 1d\n",
      "SUBFOLDER OF C:\\Users\\HOME4400\\PycharmProjects\\AutomateTheBoringStuff\\Chapter7_RegularExpressions\\.git\\objects: 1f\n",
      "SUBFOLDER OF C:\\Users\\HOME4400\\PycharmProjects\\AutomateTheBoringStuff\\Chapter7_RegularExpressions\\.git\\objects: 2e\n",
      "SUBFOLDER OF C:\\Users\\HOME4400\\PycharmProjects\\AutomateTheBoringStuff\\Chapter7_RegularExpressions\\.git\\objects: 3c\n",
      "SUBFOLDER OF C:\\Users\\HOME4400\\PycharmProjects\\AutomateTheBoringStuff\\Chapter7_RegularExpressions\\.git\\objects: 40\n",
      "SUBFOLDER OF C:\\Users\\HOME4400\\PycharmProjects\\AutomateTheBoringStuff\\Chapter7_RegularExpressions\\.git\\objects: 49\n",
      "SUBFOLDER OF C:\\Users\\HOME4400\\PycharmProjects\\AutomateTheBoringStuff\\Chapter7_RegularExpressions\\.git\\objects: 4d\n",
      "SUBFOLDER OF C:\\Users\\HOME4400\\PycharmProjects\\AutomateTheBoringStuff\\Chapter7_RegularExpressions\\.git\\objects: 57\n",
      "SUBFOLDER OF C:\\Users\\HOME4400\\PycharmProjects\\AutomateTheBoringStuff\\Chapter7_RegularExpressions\\.git\\objects: 6c\n",
      "SUBFOLDER OF C:\\Users\\HOME4400\\PycharmProjects\\AutomateTheBoringStuff\\Chapter7_RegularExpressions\\.git\\objects: 72\n",
      "SUBFOLDER OF C:\\Users\\HOME4400\\PycharmProjects\\AutomateTheBoringStuff\\Chapter7_RegularExpressions\\.git\\objects: 7a\n",
      "SUBFOLDER OF C:\\Users\\HOME4400\\PycharmProjects\\AutomateTheBoringStuff\\Chapter7_RegularExpressions\\.git\\objects: 7c\n",
      "SUBFOLDER OF C:\\Users\\HOME4400\\PycharmProjects\\AutomateTheBoringStuff\\Chapter7_RegularExpressions\\.git\\objects: 89\n",
      "SUBFOLDER OF C:\\Users\\HOME4400\\PycharmProjects\\AutomateTheBoringStuff\\Chapter7_RegularExpressions\\.git\\objects: 97\n",
      "SUBFOLDER OF C:\\Users\\HOME4400\\PycharmProjects\\AutomateTheBoringStuff\\Chapter7_RegularExpressions\\.git\\objects: 99\n",
      "SUBFOLDER OF C:\\Users\\HOME4400\\PycharmProjects\\AutomateTheBoringStuff\\Chapter7_RegularExpressions\\.git\\objects: 9f\n",
      "SUBFOLDER OF C:\\Users\\HOME4400\\PycharmProjects\\AutomateTheBoringStuff\\Chapter7_RegularExpressions\\.git\\objects: a1\n",
      "SUBFOLDER OF C:\\Users\\HOME4400\\PycharmProjects\\AutomateTheBoringStuff\\Chapter7_RegularExpressions\\.git\\objects: a2\n",
      "SUBFOLDER OF C:\\Users\\HOME4400\\PycharmProjects\\AutomateTheBoringStuff\\Chapter7_RegularExpressions\\.git\\objects: a7\n",
      "SUBFOLDER OF C:\\Users\\HOME4400\\PycharmProjects\\AutomateTheBoringStuff\\Chapter7_RegularExpressions\\.git\\objects: ac\n",
      "SUBFOLDER OF C:\\Users\\HOME4400\\PycharmProjects\\AutomateTheBoringStuff\\Chapter7_RegularExpressions\\.git\\objects: b8\n",
      "SUBFOLDER OF C:\\Users\\HOME4400\\PycharmProjects\\AutomateTheBoringStuff\\Chapter7_RegularExpressions\\.git\\objects: c4\n",
      "SUBFOLDER OF C:\\Users\\HOME4400\\PycharmProjects\\AutomateTheBoringStuff\\Chapter7_RegularExpressions\\.git\\objects: c9\n",
      "SUBFOLDER OF C:\\Users\\HOME4400\\PycharmProjects\\AutomateTheBoringStuff\\Chapter7_RegularExpressions\\.git\\objects: cc\n",
      "SUBFOLDER OF C:\\Users\\HOME4400\\PycharmProjects\\AutomateTheBoringStuff\\Chapter7_RegularExpressions\\.git\\objects: d3\n",
      "SUBFOLDER OF C:\\Users\\HOME4400\\PycharmProjects\\AutomateTheBoringStuff\\Chapter7_RegularExpressions\\.git\\objects: df\n",
      "SUBFOLDER OF C:\\Users\\HOME4400\\PycharmProjects\\AutomateTheBoringStuff\\Chapter7_RegularExpressions\\.git\\objects: e8\n",
      "SUBFOLDER OF C:\\Users\\HOME4400\\PycharmProjects\\AutomateTheBoringStuff\\Chapter7_RegularExpressions\\.git\\objects: ec\n",
      "SUBFOLDER OF C:\\Users\\HOME4400\\PycharmProjects\\AutomateTheBoringStuff\\Chapter7_RegularExpressions\\.git\\objects: f3\n",
      "SUBFOLDER OF C:\\Users\\HOME4400\\PycharmProjects\\AutomateTheBoringStuff\\Chapter7_RegularExpressions\\.git\\objects: f4\n",
      "SUBFOLDER OF C:\\Users\\HOME4400\\PycharmProjects\\AutomateTheBoringStuff\\Chapter7_RegularExpressions\\.git\\objects: info\n",
      "SUBFOLDER OF C:\\Users\\HOME4400\\PycharmProjects\\AutomateTheBoringStuff\\Chapter7_RegularExpressions\\.git\\objects: pack\n",
      "\n",
      "The current folder is C:\\Users\\HOME4400\\PycharmProjects\\AutomateTheBoringStuff\\Chapter7_RegularExpressions\\.git\\objects\\07\n",
      "FILE INSIDE C:\\Users\\HOME4400\\PycharmProjects\\AutomateTheBoringStuff\\Chapter7_RegularExpressions\\.git\\objects\\07: 28f227576209980ffdf06e73466ea290d96d41\n",
      "\n",
      "The current folder is C:\\Users\\HOME4400\\PycharmProjects\\AutomateTheBoringStuff\\Chapter7_RegularExpressions\\.git\\objects\\0c\n",
      "FILE INSIDE C:\\Users\\HOME4400\\PycharmProjects\\AutomateTheBoringStuff\\Chapter7_RegularExpressions\\.git\\objects\\0c: 64ec7898bf703f761e8d9753b9dde8777b865e\n",
      "\n",
      "The current folder is C:\\Users\\HOME4400\\PycharmProjects\\AutomateTheBoringStuff\\Chapter7_RegularExpressions\\.git\\objects\\11\n",
      "FILE INSIDE C:\\Users\\HOME4400\\PycharmProjects\\AutomateTheBoringStuff\\Chapter7_RegularExpressions\\.git\\objects\\11: 2edd4b02b5ff005450bc45d78b4e0719383b6b\n",
      "\n",
      "The current folder is C:\\Users\\HOME4400\\PycharmProjects\\AutomateTheBoringStuff\\Chapter7_RegularExpressions\\.git\\objects\\17\n",
      "FILE INSIDE C:\\Users\\HOME4400\\PycharmProjects\\AutomateTheBoringStuff\\Chapter7_RegularExpressions\\.git\\objects\\17: 544591f1bdd1d76ecb314547874fba06d37c1c\n",
      "\n",
      "The current folder is C:\\Users\\HOME4400\\PycharmProjects\\AutomateTheBoringStuff\\Chapter7_RegularExpressions\\.git\\objects\\1c\n",
      "FILE INSIDE C:\\Users\\HOME4400\\PycharmProjects\\AutomateTheBoringStuff\\Chapter7_RegularExpressions\\.git\\objects\\1c: 669c21fd0bafe12d1a2289d459a6246aec147a\n",
      "\n",
      "The current folder is C:\\Users\\HOME4400\\PycharmProjects\\AutomateTheBoringStuff\\Chapter7_RegularExpressions\\.git\\objects\\1d\n",
      "FILE INSIDE C:\\Users\\HOME4400\\PycharmProjects\\AutomateTheBoringStuff\\Chapter7_RegularExpressions\\.git\\objects\\1d: 0806c019db07056e6765233a1e3fc6c3a9b7c4\n",
      "\n",
      "The current folder is C:\\Users\\HOME4400\\PycharmProjects\\AutomateTheBoringStuff\\Chapter7_RegularExpressions\\.git\\objects\\1f\n",
      "FILE INSIDE C:\\Users\\HOME4400\\PycharmProjects\\AutomateTheBoringStuff\\Chapter7_RegularExpressions\\.git\\objects\\1f: 8ce7d224f5331f93e7de9c3eceee60e42b22a3\n",
      "\n",
      "The current folder is C:\\Users\\HOME4400\\PycharmProjects\\AutomateTheBoringStuff\\Chapter7_RegularExpressions\\.git\\objects\\2e\n",
      "FILE INSIDE C:\\Users\\HOME4400\\PycharmProjects\\AutomateTheBoringStuff\\Chapter7_RegularExpressions\\.git\\objects\\2e: 11c2f1bfd5102e65ea6fc208ceb29257d1fd4e\n",
      "\n",
      "The current folder is C:\\Users\\HOME4400\\PycharmProjects\\AutomateTheBoringStuff\\Chapter7_RegularExpressions\\.git\\objects\\3c\n",
      "FILE INSIDE C:\\Users\\HOME4400\\PycharmProjects\\AutomateTheBoringStuff\\Chapter7_RegularExpressions\\.git\\objects\\3c: c0ac539b4e134273adf47b6ef84526ed33b189\n",
      "\n",
      "The current folder is C:\\Users\\HOME4400\\PycharmProjects\\AutomateTheBoringStuff\\Chapter7_RegularExpressions\\.git\\objects\\40\n",
      "FILE INSIDE C:\\Users\\HOME4400\\PycharmProjects\\AutomateTheBoringStuff\\Chapter7_RegularExpressions\\.git\\objects\\40: 034b5f9ac34c58846848bc02c2a18409c2d4e7\n",
      "\n",
      "The current folder is C:\\Users\\HOME4400\\PycharmProjects\\AutomateTheBoringStuff\\Chapter7_RegularExpressions\\.git\\objects\\49\n",
      "FILE INSIDE C:\\Users\\HOME4400\\PycharmProjects\\AutomateTheBoringStuff\\Chapter7_RegularExpressions\\.git\\objects\\49: 992a6ce027a72b68820fab912a8faa03c5e6f6\n",
      "\n",
      "The current folder is C:\\Users\\HOME4400\\PycharmProjects\\AutomateTheBoringStuff\\Chapter7_RegularExpressions\\.git\\objects\\4d\n",
      "FILE INSIDE C:\\Users\\HOME4400\\PycharmProjects\\AutomateTheBoringStuff\\Chapter7_RegularExpressions\\.git\\objects\\4d: fbc4b9a70aaf73eb1afbe7b5403a5e1a92d69f\n",
      "\n",
      "The current folder is C:\\Users\\HOME4400\\PycharmProjects\\AutomateTheBoringStuff\\Chapter7_RegularExpressions\\.git\\objects\\57\n",
      "FILE INSIDE C:\\Users\\HOME4400\\PycharmProjects\\AutomateTheBoringStuff\\Chapter7_RegularExpressions\\.git\\objects\\57: 5f948328b90d288d1db6f43cea381999b48d98\n",
      "\n",
      "The current folder is C:\\Users\\HOME4400\\PycharmProjects\\AutomateTheBoringStuff\\Chapter7_RegularExpressions\\.git\\objects\\6c\n",
      "FILE INSIDE C:\\Users\\HOME4400\\PycharmProjects\\AutomateTheBoringStuff\\Chapter7_RegularExpressions\\.git\\objects\\6c: 1e30b2ad3595fe89ffa29630b202b5cd170448\n",
      "\n",
      "The current folder is C:\\Users\\HOME4400\\PycharmProjects\\AutomateTheBoringStuff\\Chapter7_RegularExpressions\\.git\\objects\\72\n",
      "FILE INSIDE C:\\Users\\HOME4400\\PycharmProjects\\AutomateTheBoringStuff\\Chapter7_RegularExpressions\\.git\\objects\\72: 364f99fe4bf8d5262df3b19b33102aeaa791e5\n",
      "\n",
      "The current folder is C:\\Users\\HOME4400\\PycharmProjects\\AutomateTheBoringStuff\\Chapter7_RegularExpressions\\.git\\objects\\7a\n",
      "FILE INSIDE C:\\Users\\HOME4400\\PycharmProjects\\AutomateTheBoringStuff\\Chapter7_RegularExpressions\\.git\\objects\\7a: 2ee1576c414c1ee5b306a85cdd64e4c71726af\n",
      "\n",
      "The current folder is C:\\Users\\HOME4400\\PycharmProjects\\AutomateTheBoringStuff\\Chapter7_RegularExpressions\\.git\\objects\\7c\n",
      "FILE INSIDE C:\\Users\\HOME4400\\PycharmProjects\\AutomateTheBoringStuff\\Chapter7_RegularExpressions\\.git\\objects\\7c: 4bb9860c872d55b4eb8cbe426984cc8d2a2211\n",
      "\n",
      "The current folder is C:\\Users\\HOME4400\\PycharmProjects\\AutomateTheBoringStuff\\Chapter7_RegularExpressions\\.git\\objects\\89\n",
      "FILE INSIDE C:\\Users\\HOME4400\\PycharmProjects\\AutomateTheBoringStuff\\Chapter7_RegularExpressions\\.git\\objects\\89: d53917a649f8697ff154187f0a7257868b7581\n",
      "\n",
      "The current folder is C:\\Users\\HOME4400\\PycharmProjects\\AutomateTheBoringStuff\\Chapter7_RegularExpressions\\.git\\objects\\97\n",
      "FILE INSIDE C:\\Users\\HOME4400\\PycharmProjects\\AutomateTheBoringStuff\\Chapter7_RegularExpressions\\.git\\objects\\97: 94c54ed3e6994da980328d7be393bc48d6749f\n",
      "\n",
      "The current folder is C:\\Users\\HOME4400\\PycharmProjects\\AutomateTheBoringStuff\\Chapter7_RegularExpressions\\.git\\objects\\99\n",
      "FILE INSIDE C:\\Users\\HOME4400\\PycharmProjects\\AutomateTheBoringStuff\\Chapter7_RegularExpressions\\.git\\objects\\99: 9a1cf4ff6189dba96c6b7640de4ce5422acd50\n",
      "\n",
      "The current folder is C:\\Users\\HOME4400\\PycharmProjects\\AutomateTheBoringStuff\\Chapter7_RegularExpressions\\.git\\objects\\9f\n",
      "FILE INSIDE C:\\Users\\HOME4400\\PycharmProjects\\AutomateTheBoringStuff\\Chapter7_RegularExpressions\\.git\\objects\\9f: 88b1bc76a4ffe6a05a2e7cfdc889d6cb93f2fa\n",
      "\n",
      "The current folder is C:\\Users\\HOME4400\\PycharmProjects\\AutomateTheBoringStuff\\Chapter7_RegularExpressions\\.git\\objects\\a1\n",
      "FILE INSIDE C:\\Users\\HOME4400\\PycharmProjects\\AutomateTheBoringStuff\\Chapter7_RegularExpressions\\.git\\objects\\a1: aff986c1d05db594596d52d4888b0f4af53543\n",
      "\n",
      "The current folder is C:\\Users\\HOME4400\\PycharmProjects\\AutomateTheBoringStuff\\Chapter7_RegularExpressions\\.git\\objects\\a2\n",
      "FILE INSIDE C:\\Users\\HOME4400\\PycharmProjects\\AutomateTheBoringStuff\\Chapter7_RegularExpressions\\.git\\objects\\a2: 33abde7e458b1ccd8083df65554b50ac6a031e\n",
      "\n",
      "The current folder is C:\\Users\\HOME4400\\PycharmProjects\\AutomateTheBoringStuff\\Chapter7_RegularExpressions\\.git\\objects\\a7\n",
      "FILE INSIDE C:\\Users\\HOME4400\\PycharmProjects\\AutomateTheBoringStuff\\Chapter7_RegularExpressions\\.git\\objects\\a7: 4c5b678bf846f391bb3759d19483dd11f12741\n",
      "\n",
      "The current folder is C:\\Users\\HOME4400\\PycharmProjects\\AutomateTheBoringStuff\\Chapter7_RegularExpressions\\.git\\objects\\ac\n",
      "FILE INSIDE C:\\Users\\HOME4400\\PycharmProjects\\AutomateTheBoringStuff\\Chapter7_RegularExpressions\\.git\\objects\\ac: 5461108cd18f66ea46212c73ffc5e561b44269\n",
      "\n",
      "The current folder is C:\\Users\\HOME4400\\PycharmProjects\\AutomateTheBoringStuff\\Chapter7_RegularExpressions\\.git\\objects\\b8\n",
      "FILE INSIDE C:\\Users\\HOME4400\\PycharmProjects\\AutomateTheBoringStuff\\Chapter7_RegularExpressions\\.git\\objects\\b8: 45ce8be4dca353143e963e7ccbd7e2fc054978\n",
      "\n",
      "The current folder is C:\\Users\\HOME4400\\PycharmProjects\\AutomateTheBoringStuff\\Chapter7_RegularExpressions\\.git\\objects\\c4\n",
      "FILE INSIDE C:\\Users\\HOME4400\\PycharmProjects\\AutomateTheBoringStuff\\Chapter7_RegularExpressions\\.git\\objects\\c4: 5b4dc5f0ab77873d0febee54a741657d387b86\n",
      "FILE INSIDE C:\\Users\\HOME4400\\PycharmProjects\\AutomateTheBoringStuff\\Chapter7_RegularExpressions\\.git\\objects\\c4: ee81601d23354841a91a702d18feb026bc09bf\n",
      "\n",
      "The current folder is C:\\Users\\HOME4400\\PycharmProjects\\AutomateTheBoringStuff\\Chapter7_RegularExpressions\\.git\\objects\\c9\n",
      "FILE INSIDE C:\\Users\\HOME4400\\PycharmProjects\\AutomateTheBoringStuff\\Chapter7_RegularExpressions\\.git\\objects\\c9: ad21d03c6d21697044270487b86fb270001160\n",
      "\n",
      "The current folder is C:\\Users\\HOME4400\\PycharmProjects\\AutomateTheBoringStuff\\Chapter7_RegularExpressions\\.git\\objects\\cc\n",
      "FILE INSIDE C:\\Users\\HOME4400\\PycharmProjects\\AutomateTheBoringStuff\\Chapter7_RegularExpressions\\.git\\objects\\cc: 87ebadfc7b39f77efadac7ec73b6e7ebbc2de5\n",
      "\n",
      "The current folder is C:\\Users\\HOME4400\\PycharmProjects\\AutomateTheBoringStuff\\Chapter7_RegularExpressions\\.git\\objects\\d3\n",
      "FILE INSIDE C:\\Users\\HOME4400\\PycharmProjects\\AutomateTheBoringStuff\\Chapter7_RegularExpressions\\.git\\objects\\d3: b2e66b7c0b5cad0a2750aa95df1701b76b8c51\n",
      "\n",
      "The current folder is C:\\Users\\HOME4400\\PycharmProjects\\AutomateTheBoringStuff\\Chapter7_RegularExpressions\\.git\\objects\\df\n",
      "FILE INSIDE C:\\Users\\HOME4400\\PycharmProjects\\AutomateTheBoringStuff\\Chapter7_RegularExpressions\\.git\\objects\\df: 8a6bf78d69b7a45e1f8af8a6bb2b81b0ba11d6\n",
      "\n",
      "The current folder is C:\\Users\\HOME4400\\PycharmProjects\\AutomateTheBoringStuff\\Chapter7_RegularExpressions\\.git\\objects\\e8\n",
      "FILE INSIDE C:\\Users\\HOME4400\\PycharmProjects\\AutomateTheBoringStuff\\Chapter7_RegularExpressions\\.git\\objects\\e8: e52a95fcb75575eae43044d1618f141b8626f3\n",
      "\n",
      "The current folder is C:\\Users\\HOME4400\\PycharmProjects\\AutomateTheBoringStuff\\Chapter7_RegularExpressions\\.git\\objects\\ec\n",
      "FILE INSIDE C:\\Users\\HOME4400\\PycharmProjects\\AutomateTheBoringStuff\\Chapter7_RegularExpressions\\.git\\objects\\ec: a40c3b130a838fae4cc589dd0066835f4221b9\n",
      "\n",
      "The current folder is C:\\Users\\HOME4400\\PycharmProjects\\AutomateTheBoringStuff\\Chapter7_RegularExpressions\\.git\\objects\\f3\n",
      "FILE INSIDE C:\\Users\\HOME4400\\PycharmProjects\\AutomateTheBoringStuff\\Chapter7_RegularExpressions\\.git\\objects\\f3: 589c6f75321edcf1889761a9131c7c5542f6de\n",
      "\n",
      "The current folder is C:\\Users\\HOME4400\\PycharmProjects\\AutomateTheBoringStuff\\Chapter7_RegularExpressions\\.git\\objects\\f4\n",
      "FILE INSIDE C:\\Users\\HOME4400\\PycharmProjects\\AutomateTheBoringStuff\\Chapter7_RegularExpressions\\.git\\objects\\f4: 806c5ead115bae8a70c231ad4a3484405beff1\n",
      "\n",
      "The current folder is C:\\Users\\HOME4400\\PycharmProjects\\AutomateTheBoringStuff\\Chapter7_RegularExpressions\\.git\\objects\\info\n",
      "\n",
      "The current folder is C:\\Users\\HOME4400\\PycharmProjects\\AutomateTheBoringStuff\\Chapter7_RegularExpressions\\.git\\objects\\pack\n",
      "FILE INSIDE C:\\Users\\HOME4400\\PycharmProjects\\AutomateTheBoringStuff\\Chapter7_RegularExpressions\\.git\\objects\\pack: pack-ac1ebfce4568c5d7396e00a2610d99cef5ec31e2.idx\n",
      "FILE INSIDE C:\\Users\\HOME4400\\PycharmProjects\\AutomateTheBoringStuff\\Chapter7_RegularExpressions\\.git\\objects\\pack: pack-ac1ebfce4568c5d7396e00a2610d99cef5ec31e2.pack\n",
      "\n",
      "The current folder is C:\\Users\\HOME4400\\PycharmProjects\\AutomateTheBoringStuff\\Chapter7_RegularExpressions\\.git\\refs\n",
      "SUBFOLDER OF C:\\Users\\HOME4400\\PycharmProjects\\AutomateTheBoringStuff\\Chapter7_RegularExpressions\\.git\\refs: heads\n",
      "SUBFOLDER OF C:\\Users\\HOME4400\\PycharmProjects\\AutomateTheBoringStuff\\Chapter7_RegularExpressions\\.git\\refs: remotes\n",
      "SUBFOLDER OF C:\\Users\\HOME4400\\PycharmProjects\\AutomateTheBoringStuff\\Chapter7_RegularExpressions\\.git\\refs: tags\n",
      "\n",
      "The current folder is C:\\Users\\HOME4400\\PycharmProjects\\AutomateTheBoringStuff\\Chapter7_RegularExpressions\\.git\\refs\\heads\n",
      "FILE INSIDE C:\\Users\\HOME4400\\PycharmProjects\\AutomateTheBoringStuff\\Chapter7_RegularExpressions\\.git\\refs\\heads: master\n",
      "\n",
      "The current folder is C:\\Users\\HOME4400\\PycharmProjects\\AutomateTheBoringStuff\\Chapter7_RegularExpressions\\.git\\refs\\remotes\n",
      "SUBFOLDER OF C:\\Users\\HOME4400\\PycharmProjects\\AutomateTheBoringStuff\\Chapter7_RegularExpressions\\.git\\refs\\remotes: origin\n",
      "\n",
      "The current folder is C:\\Users\\HOME4400\\PycharmProjects\\AutomateTheBoringStuff\\Chapter7_RegularExpressions\\.git\\refs\\remotes\\origin\n",
      "FILE INSIDE C:\\Users\\HOME4400\\PycharmProjects\\AutomateTheBoringStuff\\Chapter7_RegularExpressions\\.git\\refs\\remotes\\origin: master\n",
      "\n",
      "The current folder is C:\\Users\\HOME4400\\PycharmProjects\\AutomateTheBoringStuff\\Chapter7_RegularExpressions\\.git\\refs\\tags\n",
      "\n",
      "The current folder is C:\\Users\\HOME4400\\PycharmProjects\\AutomateTheBoringStuff\\Chapter7_RegularExpressions\\.idea\n",
      "FILE INSIDE C:\\Users\\HOME4400\\PycharmProjects\\AutomateTheBoringStuff\\Chapter7_RegularExpressions\\.idea: Chapter7_RegularExpressions.iml\n",
      "FILE INSIDE C:\\Users\\HOME4400\\PycharmProjects\\AutomateTheBoringStuff\\Chapter7_RegularExpressions\\.idea: misc.xml\n",
      "FILE INSIDE C:\\Users\\HOME4400\\PycharmProjects\\AutomateTheBoringStuff\\Chapter7_RegularExpressions\\.idea: modules.xml\n",
      "FILE INSIDE C:\\Users\\HOME4400\\PycharmProjects\\AutomateTheBoringStuff\\Chapter7_RegularExpressions\\.idea: vcs.xml\n",
      "FILE INSIDE C:\\Users\\HOME4400\\PycharmProjects\\AutomateTheBoringStuff\\Chapter7_RegularExpressions\\.idea: workspace.xml\n",
      "\n",
      "The current folder is C:\\Users\\HOME4400\\PycharmProjects\\AutomateTheBoringStuff\\Chapter7_RegularExpressions\\.ipynb_checkpoints\n",
      "FILE INSIDE C:\\Users\\HOME4400\\PycharmProjects\\AutomateTheBoringStuff\\Chapter7_RegularExpressions\\.ipynb_checkpoints: FromBrowser-checkpoint.ipynb\n",
      "\n",
      "The current folder is C:\\Users\\HOME4400\\PycharmProjects\\AutomateTheBoringStuff\\Chapter7_RegularExpressions\\.spyproject\n",
      "FILE INSIDE C:\\Users\\HOME4400\\PycharmProjects\\AutomateTheBoringStuff\\Chapter7_RegularExpressions\\.spyproject: codestyle.ini\n",
      "FILE INSIDE C:\\Users\\HOME4400\\PycharmProjects\\AutomateTheBoringStuff\\Chapter7_RegularExpressions\\.spyproject: encoding.ini\n",
      "FILE INSIDE C:\\Users\\HOME4400\\PycharmProjects\\AutomateTheBoringStuff\\Chapter7_RegularExpressions\\.spyproject: vcs.ini\n",
      "FILE INSIDE C:\\Users\\HOME4400\\PycharmProjects\\AutomateTheBoringStuff\\Chapter7_RegularExpressions\\.spyproject: workspace.ini\n",
      "\n",
      "The current folder is C:\\Users\\HOME4400\\PycharmProjects\\AutomateTheBoringStuff\\Chapter7_RegularExpressions\\__pycache__\n",
      "FILE INSIDE C:\\Users\\HOME4400\\PycharmProjects\\AutomateTheBoringStuff\\Chapter7_RegularExpressions\\__pycache__: isPhoneNumber.cpython-35.pyc\n",
      "FILE INSIDE C:\\Users\\HOME4400\\PycharmProjects\\AutomateTheBoringStuff\\Chapter7_RegularExpressions\\__pycache__: regexStrip.cpython-35.pyc\n",
      "\n",
      "The current folder is C:\\Users\\HOME4400\\PycharmProjects\\AutomateTheBoringStuff\\Chapter8_ReadingAndWritingFiles\n",
      "SUBFOLDER OF C:\\Users\\HOME4400\\PycharmProjects\\AutomateTheBoringStuff\\Chapter8_ReadingAndWritingFiles: .git\n",
      "SUBFOLDER OF C:\\Users\\HOME4400\\PycharmProjects\\AutomateTheBoringStuff\\Chapter8_ReadingAndWritingFiles: .idea\n",
      "SUBFOLDER OF C:\\Users\\HOME4400\\PycharmProjects\\AutomateTheBoringStuff\\Chapter8_ReadingAndWritingFiles: .ipynb_checkpoints\n",
      "SUBFOLDER OF C:\\Users\\HOME4400\\PycharmProjects\\AutomateTheBoringStuff\\Chapter8_ReadingAndWritingFiles: delicious\n",
      "SUBFOLDER OF C:\\Users\\HOME4400\\PycharmProjects\\AutomateTheBoringStuff\\Chapter8_ReadingAndWritingFiles: Project_MadLibs\n",
      "SUBFOLDER OF C:\\Users\\HOME4400\\PycharmProjects\\AutomateTheBoringStuff\\Chapter8_ReadingAndWritingFiles: Project_mcb\n",
      "SUBFOLDER OF C:\\Users\\HOME4400\\PycharmProjects\\AutomateTheBoringStuff\\Chapter8_ReadingAndWritingFiles: Project_RegexSearch\n",
      "SUBFOLDER OF C:\\Users\\HOME4400\\PycharmProjects\\AutomateTheBoringStuff\\Chapter8_ReadingAndWritingFiles: randomQuizGenerator\n",
      "SUBFOLDER OF C:\\Users\\HOME4400\\PycharmProjects\\AutomateTheBoringStuff\\Chapter8_ReadingAndWritingFiles: __pycache__\n",
      "FILE INSIDE C:\\Users\\HOME4400\\PycharmProjects\\AutomateTheBoringStuff\\Chapter8_ReadingAndWritingFiles: .gitignore\n",
      "FILE INSIDE C:\\Users\\HOME4400\\PycharmProjects\\AutomateTheBoringStuff\\Chapter8_ReadingAndWritingFiles: Chapter8_ShellWork.ipynb\n",
      "FILE INSIDE C:\\Users\\HOME4400\\PycharmProjects\\AutomateTheBoringStuff\\Chapter8_ReadingAndWritingFiles: MatplotlibExample.ipynb\n",
      "FILE INSIDE C:\\Users\\HOME4400\\PycharmProjects\\AutomateTheBoringStuff\\Chapter8_ReadingAndWritingFiles: myCats.py\n",
      "FILE INSIDE C:\\Users\\HOME4400\\PycharmProjects\\AutomateTheBoringStuff\\Chapter8_ReadingAndWritingFiles: mydata.bak\n",
      "FILE INSIDE C:\\Users\\HOME4400\\PycharmProjects\\AutomateTheBoringStuff\\Chapter8_ReadingAndWritingFiles: mydata.dat\n",
      "FILE INSIDE C:\\Users\\HOME4400\\PycharmProjects\\AutomateTheBoringStuff\\Chapter8_ReadingAndWritingFiles: mydata.dir\n",
      "\n",
      "The current folder is C:\\Users\\HOME4400\\PycharmProjects\\AutomateTheBoringStuff\\Chapter8_ReadingAndWritingFiles\\.git\n",
      "SUBFOLDER OF C:\\Users\\HOME4400\\PycharmProjects\\AutomateTheBoringStuff\\Chapter8_ReadingAndWritingFiles\\.git: hooks\n",
      "SUBFOLDER OF C:\\Users\\HOME4400\\PycharmProjects\\AutomateTheBoringStuff\\Chapter8_ReadingAndWritingFiles\\.git: info\n",
      "SUBFOLDER OF C:\\Users\\HOME4400\\PycharmProjects\\AutomateTheBoringStuff\\Chapter8_ReadingAndWritingFiles\\.git: logs\n",
      "SUBFOLDER OF C:\\Users\\HOME4400\\PycharmProjects\\AutomateTheBoringStuff\\Chapter8_ReadingAndWritingFiles\\.git: objects\n",
      "SUBFOLDER OF C:\\Users\\HOME4400\\PycharmProjects\\AutomateTheBoringStuff\\Chapter8_ReadingAndWritingFiles\\.git: refs\n",
      "FILE INSIDE C:\\Users\\HOME4400\\PycharmProjects\\AutomateTheBoringStuff\\Chapter8_ReadingAndWritingFiles\\.git: COMMIT_EDITMSG\n",
      "FILE INSIDE C:\\Users\\HOME4400\\PycharmProjects\\AutomateTheBoringStuff\\Chapter8_ReadingAndWritingFiles\\.git: config\n",
      "FILE INSIDE C:\\Users\\HOME4400\\PycharmProjects\\AutomateTheBoringStuff\\Chapter8_ReadingAndWritingFiles\\.git: description\n",
      "FILE INSIDE C:\\Users\\HOME4400\\PycharmProjects\\AutomateTheBoringStuff\\Chapter8_ReadingAndWritingFiles\\.git: FETCH_HEAD\n",
      "FILE INSIDE C:\\Users\\HOME4400\\PycharmProjects\\AutomateTheBoringStuff\\Chapter8_ReadingAndWritingFiles\\.git: HEAD\n",
      "FILE INSIDE C:\\Users\\HOME4400\\PycharmProjects\\AutomateTheBoringStuff\\Chapter8_ReadingAndWritingFiles\\.git: index\n",
      "FILE INSIDE C:\\Users\\HOME4400\\PycharmProjects\\AutomateTheBoringStuff\\Chapter8_ReadingAndWritingFiles\\.git: ORIG_HEAD\n",
      "\n",
      "The current folder is C:\\Users\\HOME4400\\PycharmProjects\\AutomateTheBoringStuff\\Chapter8_ReadingAndWritingFiles\\.git\\hooks\n",
      "FILE INSIDE C:\\Users\\HOME4400\\PycharmProjects\\AutomateTheBoringStuff\\Chapter8_ReadingAndWritingFiles\\.git\\hooks: applypatch-msg.sample\n",
      "FILE INSIDE C:\\Users\\HOME4400\\PycharmProjects\\AutomateTheBoringStuff\\Chapter8_ReadingAndWritingFiles\\.git\\hooks: commit-msg.sample\n",
      "FILE INSIDE C:\\Users\\HOME4400\\PycharmProjects\\AutomateTheBoringStuff\\Chapter8_ReadingAndWritingFiles\\.git\\hooks: post-update.sample\n",
      "FILE INSIDE C:\\Users\\HOME4400\\PycharmProjects\\AutomateTheBoringStuff\\Chapter8_ReadingAndWritingFiles\\.git\\hooks: pre-applypatch.sample\n",
      "FILE INSIDE C:\\Users\\HOME4400\\PycharmProjects\\AutomateTheBoringStuff\\Chapter8_ReadingAndWritingFiles\\.git\\hooks: pre-commit.sample\n",
      "FILE INSIDE C:\\Users\\HOME4400\\PycharmProjects\\AutomateTheBoringStuff\\Chapter8_ReadingAndWritingFiles\\.git\\hooks: pre-push.sample\n",
      "FILE INSIDE C:\\Users\\HOME4400\\PycharmProjects\\AutomateTheBoringStuff\\Chapter8_ReadingAndWritingFiles\\.git\\hooks: pre-rebase.sample\n",
      "FILE INSIDE C:\\Users\\HOME4400\\PycharmProjects\\AutomateTheBoringStuff\\Chapter8_ReadingAndWritingFiles\\.git\\hooks: pre-receive.sample\n",
      "FILE INSIDE C:\\Users\\HOME4400\\PycharmProjects\\AutomateTheBoringStuff\\Chapter8_ReadingAndWritingFiles\\.git\\hooks: prepare-commit-msg.sample\n",
      "FILE INSIDE C:\\Users\\HOME4400\\PycharmProjects\\AutomateTheBoringStuff\\Chapter8_ReadingAndWritingFiles\\.git\\hooks: update.sample\n",
      "\n",
      "The current folder is C:\\Users\\HOME4400\\PycharmProjects\\AutomateTheBoringStuff\\Chapter8_ReadingAndWritingFiles\\.git\\info\n",
      "FILE INSIDE C:\\Users\\HOME4400\\PycharmProjects\\AutomateTheBoringStuff\\Chapter8_ReadingAndWritingFiles\\.git\\info: exclude\n",
      "\n",
      "The current folder is C:\\Users\\HOME4400\\PycharmProjects\\AutomateTheBoringStuff\\Chapter8_ReadingAndWritingFiles\\.git\\logs\n",
      "SUBFOLDER OF C:\\Users\\HOME4400\\PycharmProjects\\AutomateTheBoringStuff\\Chapter8_ReadingAndWritingFiles\\.git\\logs: refs\n",
      "FILE INSIDE C:\\Users\\HOME4400\\PycharmProjects\\AutomateTheBoringStuff\\Chapter8_ReadingAndWritingFiles\\.git\\logs: HEAD\n",
      "\n",
      "The current folder is C:\\Users\\HOME4400\\PycharmProjects\\AutomateTheBoringStuff\\Chapter8_ReadingAndWritingFiles\\.git\\logs\\refs\n",
      "SUBFOLDER OF C:\\Users\\HOME4400\\PycharmProjects\\AutomateTheBoringStuff\\Chapter8_ReadingAndWritingFiles\\.git\\logs\\refs: heads\n",
      "SUBFOLDER OF C:\\Users\\HOME4400\\PycharmProjects\\AutomateTheBoringStuff\\Chapter8_ReadingAndWritingFiles\\.git\\logs\\refs: remotes\n",
      "\n",
      "The current folder is C:\\Users\\HOME4400\\PycharmProjects\\AutomateTheBoringStuff\\Chapter8_ReadingAndWritingFiles\\.git\\logs\\refs\\heads\n",
      "FILE INSIDE C:\\Users\\HOME4400\\PycharmProjects\\AutomateTheBoringStuff\\Chapter8_ReadingAndWritingFiles\\.git\\logs\\refs\\heads: master\n",
      "FILE INSIDE C:\\Users\\HOME4400\\PycharmProjects\\AutomateTheBoringStuff\\Chapter8_ReadingAndWritingFiles\\.git\\logs\\refs\\heads: new\n",
      "\n",
      "The current folder is C:\\Users\\HOME4400\\PycharmProjects\\AutomateTheBoringStuff\\Chapter8_ReadingAndWritingFiles\\.git\\logs\\refs\\remotes\n",
      "SUBFOLDER OF C:\\Users\\HOME4400\\PycharmProjects\\AutomateTheBoringStuff\\Chapter8_ReadingAndWritingFiles\\.git\\logs\\refs\\remotes: origin\n",
      "\n",
      "The current folder is C:\\Users\\HOME4400\\PycharmProjects\\AutomateTheBoringStuff\\Chapter8_ReadingAndWritingFiles\\.git\\logs\\refs\\remotes\\origin\n",
      "FILE INSIDE C:\\Users\\HOME4400\\PycharmProjects\\AutomateTheBoringStuff\\Chapter8_ReadingAndWritingFiles\\.git\\logs\\refs\\remotes\\origin: master\n",
      "\n",
      "The current folder is C:\\Users\\HOME4400\\PycharmProjects\\AutomateTheBoringStuff\\Chapter8_ReadingAndWritingFiles\\.git\\objects\n",
      "SUBFOLDER OF C:\\Users\\HOME4400\\PycharmProjects\\AutomateTheBoringStuff\\Chapter8_ReadingAndWritingFiles\\.git\\objects: 06\n",
      "SUBFOLDER OF C:\\Users\\HOME4400\\PycharmProjects\\AutomateTheBoringStuff\\Chapter8_ReadingAndWritingFiles\\.git\\objects: 15\n",
      "SUBFOLDER OF C:\\Users\\HOME4400\\PycharmProjects\\AutomateTheBoringStuff\\Chapter8_ReadingAndWritingFiles\\.git\\objects: 17\n",
      "SUBFOLDER OF C:\\Users\\HOME4400\\PycharmProjects\\AutomateTheBoringStuff\\Chapter8_ReadingAndWritingFiles\\.git\\objects: 18\n",
      "SUBFOLDER OF C:\\Users\\HOME4400\\PycharmProjects\\AutomateTheBoringStuff\\Chapter8_ReadingAndWritingFiles\\.git\\objects: 1c\n",
      "SUBFOLDER OF C:\\Users\\HOME4400\\PycharmProjects\\AutomateTheBoringStuff\\Chapter8_ReadingAndWritingFiles\\.git\\objects: 1d\n",
      "SUBFOLDER OF C:\\Users\\HOME4400\\PycharmProjects\\AutomateTheBoringStuff\\Chapter8_ReadingAndWritingFiles\\.git\\objects: 22\n",
      "SUBFOLDER OF C:\\Users\\HOME4400\\PycharmProjects\\AutomateTheBoringStuff\\Chapter8_ReadingAndWritingFiles\\.git\\objects: 2b\n",
      "SUBFOLDER OF C:\\Users\\HOME4400\\PycharmProjects\\AutomateTheBoringStuff\\Chapter8_ReadingAndWritingFiles\\.git\\objects: 2e\n",
      "SUBFOLDER OF C:\\Users\\HOME4400\\PycharmProjects\\AutomateTheBoringStuff\\Chapter8_ReadingAndWritingFiles\\.git\\objects: 33\n",
      "SUBFOLDER OF C:\\Users\\HOME4400\\PycharmProjects\\AutomateTheBoringStuff\\Chapter8_ReadingAndWritingFiles\\.git\\objects: 35\n",
      "SUBFOLDER OF C:\\Users\\HOME4400\\PycharmProjects\\AutomateTheBoringStuff\\Chapter8_ReadingAndWritingFiles\\.git\\objects: 36\n",
      "SUBFOLDER OF C:\\Users\\HOME4400\\PycharmProjects\\AutomateTheBoringStuff\\Chapter8_ReadingAndWritingFiles\\.git\\objects: 39\n",
      "SUBFOLDER OF C:\\Users\\HOME4400\\PycharmProjects\\AutomateTheBoringStuff\\Chapter8_ReadingAndWritingFiles\\.git\\objects: 3a\n",
      "SUBFOLDER OF C:\\Users\\HOME4400\\PycharmProjects\\AutomateTheBoringStuff\\Chapter8_ReadingAndWritingFiles\\.git\\objects: 40\n",
      "SUBFOLDER OF C:\\Users\\HOME4400\\PycharmProjects\\AutomateTheBoringStuff\\Chapter8_ReadingAndWritingFiles\\.git\\objects: 4b\n",
      "SUBFOLDER OF C:\\Users\\HOME4400\\PycharmProjects\\AutomateTheBoringStuff\\Chapter8_ReadingAndWritingFiles\\.git\\objects: 53\n",
      "SUBFOLDER OF C:\\Users\\HOME4400\\PycharmProjects\\AutomateTheBoringStuff\\Chapter8_ReadingAndWritingFiles\\.git\\objects: 57\n",
      "SUBFOLDER OF C:\\Users\\HOME4400\\PycharmProjects\\AutomateTheBoringStuff\\Chapter8_ReadingAndWritingFiles\\.git\\objects: 58\n",
      "SUBFOLDER OF C:\\Users\\HOME4400\\PycharmProjects\\AutomateTheBoringStuff\\Chapter8_ReadingAndWritingFiles\\.git\\objects: 5a\n",
      "SUBFOLDER OF C:\\Users\\HOME4400\\PycharmProjects\\AutomateTheBoringStuff\\Chapter8_ReadingAndWritingFiles\\.git\\objects: 5e\n",
      "SUBFOLDER OF C:\\Users\\HOME4400\\PycharmProjects\\AutomateTheBoringStuff\\Chapter8_ReadingAndWritingFiles\\.git\\objects: 6f\n",
      "SUBFOLDER OF C:\\Users\\HOME4400\\PycharmProjects\\AutomateTheBoringStuff\\Chapter8_ReadingAndWritingFiles\\.git\\objects: 7e\n",
      "SUBFOLDER OF C:\\Users\\HOME4400\\PycharmProjects\\AutomateTheBoringStuff\\Chapter8_ReadingAndWritingFiles\\.git\\objects: 88\n",
      "SUBFOLDER OF C:\\Users\\HOME4400\\PycharmProjects\\AutomateTheBoringStuff\\Chapter8_ReadingAndWritingFiles\\.git\\objects: 90\n",
      "SUBFOLDER OF C:\\Users\\HOME4400\\PycharmProjects\\AutomateTheBoringStuff\\Chapter8_ReadingAndWritingFiles\\.git\\objects: 9a\n",
      "SUBFOLDER OF C:\\Users\\HOME4400\\PycharmProjects\\AutomateTheBoringStuff\\Chapter8_ReadingAndWritingFiles\\.git\\objects: a1\n",
      "SUBFOLDER OF C:\\Users\\HOME4400\\PycharmProjects\\AutomateTheBoringStuff\\Chapter8_ReadingAndWritingFiles\\.git\\objects: a3\n",
      "SUBFOLDER OF C:\\Users\\HOME4400\\PycharmProjects\\AutomateTheBoringStuff\\Chapter8_ReadingAndWritingFiles\\.git\\objects: a5\n",
      "SUBFOLDER OF C:\\Users\\HOME4400\\PycharmProjects\\AutomateTheBoringStuff\\Chapter8_ReadingAndWritingFiles\\.git\\objects: a9\n",
      "SUBFOLDER OF C:\\Users\\HOME4400\\PycharmProjects\\AutomateTheBoringStuff\\Chapter8_ReadingAndWritingFiles\\.git\\objects: aa\n",
      "SUBFOLDER OF C:\\Users\\HOME4400\\PycharmProjects\\AutomateTheBoringStuff\\Chapter8_ReadingAndWritingFiles\\.git\\objects: b3\n",
      "SUBFOLDER OF C:\\Users\\HOME4400\\PycharmProjects\\AutomateTheBoringStuff\\Chapter8_ReadingAndWritingFiles\\.git\\objects: b5\n",
      "SUBFOLDER OF C:\\Users\\HOME4400\\PycharmProjects\\AutomateTheBoringStuff\\Chapter8_ReadingAndWritingFiles\\.git\\objects: b8\n",
      "SUBFOLDER OF C:\\Users\\HOME4400\\PycharmProjects\\AutomateTheBoringStuff\\Chapter8_ReadingAndWritingFiles\\.git\\objects: b9\n",
      "SUBFOLDER OF C:\\Users\\HOME4400\\PycharmProjects\\AutomateTheBoringStuff\\Chapter8_ReadingAndWritingFiles\\.git\\objects: be\n",
      "SUBFOLDER OF C:\\Users\\HOME4400\\PycharmProjects\\AutomateTheBoringStuff\\Chapter8_ReadingAndWritingFiles\\.git\\objects: c0\n",
      "SUBFOLDER OF C:\\Users\\HOME4400\\PycharmProjects\\AutomateTheBoringStuff\\Chapter8_ReadingAndWritingFiles\\.git\\objects: c2\n",
      "SUBFOLDER OF C:\\Users\\HOME4400\\PycharmProjects\\AutomateTheBoringStuff\\Chapter8_ReadingAndWritingFiles\\.git\\objects: c6\n",
      "SUBFOLDER OF C:\\Users\\HOME4400\\PycharmProjects\\AutomateTheBoringStuff\\Chapter8_ReadingAndWritingFiles\\.git\\objects: ca\n",
      "SUBFOLDER OF C:\\Users\\HOME4400\\PycharmProjects\\AutomateTheBoringStuff\\Chapter8_ReadingAndWritingFiles\\.git\\objects: d7\n",
      "SUBFOLDER OF C:\\Users\\HOME4400\\PycharmProjects\\AutomateTheBoringStuff\\Chapter8_ReadingAndWritingFiles\\.git\\objects: de\n",
      "SUBFOLDER OF C:\\Users\\HOME4400\\PycharmProjects\\AutomateTheBoringStuff\\Chapter8_ReadingAndWritingFiles\\.git\\objects: df\n",
      "SUBFOLDER OF C:\\Users\\HOME4400\\PycharmProjects\\AutomateTheBoringStuff\\Chapter8_ReadingAndWritingFiles\\.git\\objects: e4\n",
      "SUBFOLDER OF C:\\Users\\HOME4400\\PycharmProjects\\AutomateTheBoringStuff\\Chapter8_ReadingAndWritingFiles\\.git\\objects: e5\n",
      "SUBFOLDER OF C:\\Users\\HOME4400\\PycharmProjects\\AutomateTheBoringStuff\\Chapter8_ReadingAndWritingFiles\\.git\\objects: e6\n",
      "SUBFOLDER OF C:\\Users\\HOME4400\\PycharmProjects\\AutomateTheBoringStuff\\Chapter8_ReadingAndWritingFiles\\.git\\objects: ed\n",
      "SUBFOLDER OF C:\\Users\\HOME4400\\PycharmProjects\\AutomateTheBoringStuff\\Chapter8_ReadingAndWritingFiles\\.git\\objects: ef\n",
      "SUBFOLDER OF C:\\Users\\HOME4400\\PycharmProjects\\AutomateTheBoringStuff\\Chapter8_ReadingAndWritingFiles\\.git\\objects: f0\n",
      "SUBFOLDER OF C:\\Users\\HOME4400\\PycharmProjects\\AutomateTheBoringStuff\\Chapter8_ReadingAndWritingFiles\\.git\\objects: f4\n",
      "SUBFOLDER OF C:\\Users\\HOME4400\\PycharmProjects\\AutomateTheBoringStuff\\Chapter8_ReadingAndWritingFiles\\.git\\objects: info\n",
      "SUBFOLDER OF C:\\Users\\HOME4400\\PycharmProjects\\AutomateTheBoringStuff\\Chapter8_ReadingAndWritingFiles\\.git\\objects: pack\n",
      "\n",
      "The current folder is C:\\Users\\HOME4400\\PycharmProjects\\AutomateTheBoringStuff\\Chapter8_ReadingAndWritingFiles\\.git\\objects\\06\n",
      "FILE INSIDE C:\\Users\\HOME4400\\PycharmProjects\\AutomateTheBoringStuff\\Chapter8_ReadingAndWritingFiles\\.git\\objects\\06: 4a8b121bfc63233a697273c7176d3b3f74080a\n",
      "\n",
      "The current folder is C:\\Users\\HOME4400\\PycharmProjects\\AutomateTheBoringStuff\\Chapter8_ReadingAndWritingFiles\\.git\\objects\\15\n",
      "FILE INSIDE C:\\Users\\HOME4400\\PycharmProjects\\AutomateTheBoringStuff\\Chapter8_ReadingAndWritingFiles\\.git\\objects\\15: f64bd01296cfef4b71bfab802a2cdef5c55e08\n",
      "\n",
      "The current folder is C:\\Users\\HOME4400\\PycharmProjects\\AutomateTheBoringStuff\\Chapter8_ReadingAndWritingFiles\\.git\\objects\\17\n",
      "FILE INSIDE C:\\Users\\HOME4400\\PycharmProjects\\AutomateTheBoringStuff\\Chapter8_ReadingAndWritingFiles\\.git\\objects\\17: 1513f6c6bcfacf6e58ffafbafa7a428529e8e5\n",
      "\n",
      "The current folder is C:\\Users\\HOME4400\\PycharmProjects\\AutomateTheBoringStuff\\Chapter8_ReadingAndWritingFiles\\.git\\objects\\18\n",
      "FILE INSIDE C:\\Users\\HOME4400\\PycharmProjects\\AutomateTheBoringStuff\\Chapter8_ReadingAndWritingFiles\\.git\\objects\\18: 6fd0056ca4be729228ee4b0b1216cedb128a6f\n",
      "\n",
      "The current folder is C:\\Users\\HOME4400\\PycharmProjects\\AutomateTheBoringStuff\\Chapter8_ReadingAndWritingFiles\\.git\\objects\\1c\n",
      "FILE INSIDE C:\\Users\\HOME4400\\PycharmProjects\\AutomateTheBoringStuff\\Chapter8_ReadingAndWritingFiles\\.git\\objects\\1c: 0ee2e42847e50f37114560246d597555f97be5\n",
      "FILE INSIDE C:\\Users\\HOME4400\\PycharmProjects\\AutomateTheBoringStuff\\Chapter8_ReadingAndWritingFiles\\.git\\objects\\1c: 48fcde3a3eb88c945dd6df5a2b4065c77ab849\n",
      "\n",
      "The current folder is C:\\Users\\HOME4400\\PycharmProjects\\AutomateTheBoringStuff\\Chapter8_ReadingAndWritingFiles\\.git\\objects\\1d\n",
      "FILE INSIDE C:\\Users\\HOME4400\\PycharmProjects\\AutomateTheBoringStuff\\Chapter8_ReadingAndWritingFiles\\.git\\objects\\1d: da13232dd55af68e2e9b79b4efadc97d1e49e3\n",
      "\n",
      "The current folder is C:\\Users\\HOME4400\\PycharmProjects\\AutomateTheBoringStuff\\Chapter8_ReadingAndWritingFiles\\.git\\objects\\22\n",
      "FILE INSIDE C:\\Users\\HOME4400\\PycharmProjects\\AutomateTheBoringStuff\\Chapter8_ReadingAndWritingFiles\\.git\\objects\\22: 36cce407c400fcba1e8f52dc9ab971a6ad3ec0\n",
      "\n",
      "The current folder is C:\\Users\\HOME4400\\PycharmProjects\\AutomateTheBoringStuff\\Chapter8_ReadingAndWritingFiles\\.git\\objects\\2b\n",
      "FILE INSIDE C:\\Users\\HOME4400\\PycharmProjects\\AutomateTheBoringStuff\\Chapter8_ReadingAndWritingFiles\\.git\\objects\\2b: 497681c56496ab6b6bc6d95ac7854e293cd324\n",
      "\n",
      "The current folder is C:\\Users\\HOME4400\\PycharmProjects\\AutomateTheBoringStuff\\Chapter8_ReadingAndWritingFiles\\.git\\objects\\2e\n",
      "FILE INSIDE C:\\Users\\HOME4400\\PycharmProjects\\AutomateTheBoringStuff\\Chapter8_ReadingAndWritingFiles\\.git\\objects\\2e: e60c19cad2ed802a5297c92f9c66a92e6c7416\n",
      "\n",
      "The current folder is C:\\Users\\HOME4400\\PycharmProjects\\AutomateTheBoringStuff\\Chapter8_ReadingAndWritingFiles\\.git\\objects\\33\n",
      "FILE INSIDE C:\\Users\\HOME4400\\PycharmProjects\\AutomateTheBoringStuff\\Chapter8_ReadingAndWritingFiles\\.git\\objects\\33: 1e9e685325b0ac4316905fbdbc81057ecc2231\n",
      "FILE INSIDE C:\\Users\\HOME4400\\PycharmProjects\\AutomateTheBoringStuff\\Chapter8_ReadingAndWritingFiles\\.git\\objects\\33: 6f558e831950e81613270238579cdee81a91ff\n",
      "\n",
      "The current folder is C:\\Users\\HOME4400\\PycharmProjects\\AutomateTheBoringStuff\\Chapter8_ReadingAndWritingFiles\\.git\\objects\\35\n",
      "FILE INSIDE C:\\Users\\HOME4400\\PycharmProjects\\AutomateTheBoringStuff\\Chapter8_ReadingAndWritingFiles\\.git\\objects\\35: 65bf7a657879ad5993c4addd6b632f3e7ec319\n",
      "\n",
      "The current folder is C:\\Users\\HOME4400\\PycharmProjects\\AutomateTheBoringStuff\\Chapter8_ReadingAndWritingFiles\\.git\\objects\\36\n",
      "FILE INSIDE C:\\Users\\HOME4400\\PycharmProjects\\AutomateTheBoringStuff\\Chapter8_ReadingAndWritingFiles\\.git\\objects\\36: 0f2be43c669e4c7748031af2bcd5f1d42e0eab\n",
      "\n",
      "The current folder is C:\\Users\\HOME4400\\PycharmProjects\\AutomateTheBoringStuff\\Chapter8_ReadingAndWritingFiles\\.git\\objects\\39\n",
      "FILE INSIDE C:\\Users\\HOME4400\\PycharmProjects\\AutomateTheBoringStuff\\Chapter8_ReadingAndWritingFiles\\.git\\objects\\39: dd2e93982d55394b64f84882659a0e807f9be1\n",
      "\n",
      "The current folder is C:\\Users\\HOME4400\\PycharmProjects\\AutomateTheBoringStuff\\Chapter8_ReadingAndWritingFiles\\.git\\objects\\3a\n",
      "FILE INSIDE C:\\Users\\HOME4400\\PycharmProjects\\AutomateTheBoringStuff\\Chapter8_ReadingAndWritingFiles\\.git\\objects\\3a: 16e62d52bac39b48b104e2aac8a3f7beb0a62a\n",
      "\n",
      "The current folder is C:\\Users\\HOME4400\\PycharmProjects\\AutomateTheBoringStuff\\Chapter8_ReadingAndWritingFiles\\.git\\objects\\40\n",
      "FILE INSIDE C:\\Users\\HOME4400\\PycharmProjects\\AutomateTheBoringStuff\\Chapter8_ReadingAndWritingFiles\\.git\\objects\\40: 034b5f9ac34c58846848bc02c2a18409c2d4e7\n",
      "\n",
      "The current folder is C:\\Users\\HOME4400\\PycharmProjects\\AutomateTheBoringStuff\\Chapter8_ReadingAndWritingFiles\\.git\\objects\\4b\n",
      "FILE INSIDE C:\\Users\\HOME4400\\PycharmProjects\\AutomateTheBoringStuff\\Chapter8_ReadingAndWritingFiles\\.git\\objects\\4b: 825dc642cb6eb9a060e54bf8d69288fbee4904\n",
      "\n",
      "The current folder is C:\\Users\\HOME4400\\PycharmProjects\\AutomateTheBoringStuff\\Chapter8_ReadingAndWritingFiles\\.git\\objects\\53\n",
      "FILE INSIDE C:\\Users\\HOME4400\\PycharmProjects\\AutomateTheBoringStuff\\Chapter8_ReadingAndWritingFiles\\.git\\objects\\53: fcec80c2b375b272c791838b8c7c1726589a21\n",
      "\n",
      "The current folder is C:\\Users\\HOME4400\\PycharmProjects\\AutomateTheBoringStuff\\Chapter8_ReadingAndWritingFiles\\.git\\objects\\57\n",
      "FILE INSIDE C:\\Users\\HOME4400\\PycharmProjects\\AutomateTheBoringStuff\\Chapter8_ReadingAndWritingFiles\\.git\\objects\\57: 037fb04ab989acfa1033d13a94d2b57376060f\n",
      "\n",
      "The current folder is C:\\Users\\HOME4400\\PycharmProjects\\AutomateTheBoringStuff\\Chapter8_ReadingAndWritingFiles\\.git\\objects\\58\n",
      "FILE INSIDE C:\\Users\\HOME4400\\PycharmProjects\\AutomateTheBoringStuff\\Chapter8_ReadingAndWritingFiles\\.git\\objects\\58: a455819e13eb5e78fc841dae2366c80562910b\n",
      "\n",
      "The current folder is C:\\Users\\HOME4400\\PycharmProjects\\AutomateTheBoringStuff\\Chapter8_ReadingAndWritingFiles\\.git\\objects\\5a\n",
      "FILE INSIDE C:\\Users\\HOME4400\\PycharmProjects\\AutomateTheBoringStuff\\Chapter8_ReadingAndWritingFiles\\.git\\objects\\5a: 7e877c536026134a73b3976ab85998b93b5712\n",
      "\n",
      "The current folder is C:\\Users\\HOME4400\\PycharmProjects\\AutomateTheBoringStuff\\Chapter8_ReadingAndWritingFiles\\.git\\objects\\5e\n",
      "FILE INSIDE C:\\Users\\HOME4400\\PycharmProjects\\AutomateTheBoringStuff\\Chapter8_ReadingAndWritingFiles\\.git\\objects\\5e: 5cbeb998f47ca30845c2e2840f1077b81a7a87\n",
      "FILE INSIDE C:\\Users\\HOME4400\\PycharmProjects\\AutomateTheBoringStuff\\Chapter8_ReadingAndWritingFiles\\.git\\objects\\5e: dfeca795d4611d1e33899fcfbe6f7d32aca6eb\n",
      "\n",
      "The current folder is C:\\Users\\HOME4400\\PycharmProjects\\AutomateTheBoringStuff\\Chapter8_ReadingAndWritingFiles\\.git\\objects\\6f\n",
      "FILE INSIDE C:\\Users\\HOME4400\\PycharmProjects\\AutomateTheBoringStuff\\Chapter8_ReadingAndWritingFiles\\.git\\objects\\6f: 53ca1edb73ff9fa480af02d2de86b56163c4c6\n",
      "\n",
      "The current folder is C:\\Users\\HOME4400\\PycharmProjects\\AutomateTheBoringStuff\\Chapter8_ReadingAndWritingFiles\\.git\\objects\\7e\n",
      "FILE INSIDE C:\\Users\\HOME4400\\PycharmProjects\\AutomateTheBoringStuff\\Chapter8_ReadingAndWritingFiles\\.git\\objects\\7e: 2fb82f3af804eb7d909b621c3b983b6002e12f\n",
      "FILE INSIDE C:\\Users\\HOME4400\\PycharmProjects\\AutomateTheBoringStuff\\Chapter8_ReadingAndWritingFiles\\.git\\objects\\7e: 8b3a7558973404b99050b2050e9c8e7f047d1b\n",
      "\n",
      "The current folder is C:\\Users\\HOME4400\\PycharmProjects\\AutomateTheBoringStuff\\Chapter8_ReadingAndWritingFiles\\.git\\objects\\88\n",
      "FILE INSIDE C:\\Users\\HOME4400\\PycharmProjects\\AutomateTheBoringStuff\\Chapter8_ReadingAndWritingFiles\\.git\\objects\\88: 860435612fa5acbfb1c50180e70a86604dd055\n",
      "\n",
      "The current folder is C:\\Users\\HOME4400\\PycharmProjects\\AutomateTheBoringStuff\\Chapter8_ReadingAndWritingFiles\\.git\\objects\\90\n",
      "FILE INSIDE C:\\Users\\HOME4400\\PycharmProjects\\AutomateTheBoringStuff\\Chapter8_ReadingAndWritingFiles\\.git\\objects\\90: a0cadadcd109a1a94d50c60f437ff7e32b0f8f\n",
      "\n",
      "The current folder is C:\\Users\\HOME4400\\PycharmProjects\\AutomateTheBoringStuff\\Chapter8_ReadingAndWritingFiles\\.git\\objects\\9a\n",
      "FILE INSIDE C:\\Users\\HOME4400\\PycharmProjects\\AutomateTheBoringStuff\\Chapter8_ReadingAndWritingFiles\\.git\\objects\\9a: 34f29a51252cd50e346c52af5b74e6fe8b2a12\n",
      "\n",
      "The current folder is C:\\Users\\HOME4400\\PycharmProjects\\AutomateTheBoringStuff\\Chapter8_ReadingAndWritingFiles\\.git\\objects\\a1\n",
      "FILE INSIDE C:\\Users\\HOME4400\\PycharmProjects\\AutomateTheBoringStuff\\Chapter8_ReadingAndWritingFiles\\.git\\objects\\a1: 5bd7868090a980fe804b3e22d23c2c2a8c3cd6\n",
      "\n",
      "The current folder is C:\\Users\\HOME4400\\PycharmProjects\\AutomateTheBoringStuff\\Chapter8_ReadingAndWritingFiles\\.git\\objects\\a3\n",
      "FILE INSIDE C:\\Users\\HOME4400\\PycharmProjects\\AutomateTheBoringStuff\\Chapter8_ReadingAndWritingFiles\\.git\\objects\\a3: 8318fd2cb350a9eb625346fa94e97c715a4a58\n",
      "\n",
      "The current folder is C:\\Users\\HOME4400\\PycharmProjects\\AutomateTheBoringStuff\\Chapter8_ReadingAndWritingFiles\\.git\\objects\\a5\n",
      "FILE INSIDE C:\\Users\\HOME4400\\PycharmProjects\\AutomateTheBoringStuff\\Chapter8_ReadingAndWritingFiles\\.git\\objects\\a5: 48b76d504c4a9defe76f785b6f6cf1456149ce\n",
      "\n",
      "The current folder is C:\\Users\\HOME4400\\PycharmProjects\\AutomateTheBoringStuff\\Chapter8_ReadingAndWritingFiles\\.git\\objects\\a9\n",
      "FILE INSIDE C:\\Users\\HOME4400\\PycharmProjects\\AutomateTheBoringStuff\\Chapter8_ReadingAndWritingFiles\\.git\\objects\\a9: 428b6506ad8269cb39bc8c71a2a9158b816504\n",
      "FILE INSIDE C:\\Users\\HOME4400\\PycharmProjects\\AutomateTheBoringStuff\\Chapter8_ReadingAndWritingFiles\\.git\\objects\\a9: 787c3d48f2f79c66bb01cd224f5c95ad4db606\n",
      "\n",
      "The current folder is C:\\Users\\HOME4400\\PycharmProjects\\AutomateTheBoringStuff\\Chapter8_ReadingAndWritingFiles\\.git\\objects\\aa\n",
      "FILE INSIDE C:\\Users\\HOME4400\\PycharmProjects\\AutomateTheBoringStuff\\Chapter8_ReadingAndWritingFiles\\.git\\objects\\aa: 091d2cbe074eb58de65956d16898780419c3ab\n",
      "\n",
      "The current folder is C:\\Users\\HOME4400\\PycharmProjects\\AutomateTheBoringStuff\\Chapter8_ReadingAndWritingFiles\\.git\\objects\\b3\n",
      "FILE INSIDE C:\\Users\\HOME4400\\PycharmProjects\\AutomateTheBoringStuff\\Chapter8_ReadingAndWritingFiles\\.git\\objects\\b3: 22459ef95e3e64e2768ce3f880e2081c1f003a\n",
      "\n",
      "The current folder is C:\\Users\\HOME4400\\PycharmProjects\\AutomateTheBoringStuff\\Chapter8_ReadingAndWritingFiles\\.git\\objects\\b5\n",
      "FILE INSIDE C:\\Users\\HOME4400\\PycharmProjects\\AutomateTheBoringStuff\\Chapter8_ReadingAndWritingFiles\\.git\\objects\\b5: cfd274713e75e2aa3adbe0d126f6e9e4576585\n",
      "\n",
      "The current folder is C:\\Users\\HOME4400\\PycharmProjects\\AutomateTheBoringStuff\\Chapter8_ReadingAndWritingFiles\\.git\\objects\\b8\n",
      "FILE INSIDE C:\\Users\\HOME4400\\PycharmProjects\\AutomateTheBoringStuff\\Chapter8_ReadingAndWritingFiles\\.git\\objects\\b8: 81af923e37ef9480be7781cd9a8ec89ec5267c\n",
      "\n",
      "The current folder is C:\\Users\\HOME4400\\PycharmProjects\\AutomateTheBoringStuff\\Chapter8_ReadingAndWritingFiles\\.git\\objects\\b9\n",
      "FILE INSIDE C:\\Users\\HOME4400\\PycharmProjects\\AutomateTheBoringStuff\\Chapter8_ReadingAndWritingFiles\\.git\\objects\\b9: f18147c331c146ad4a9bd63fe4ad7db535827d\n",
      "\n",
      "The current folder is C:\\Users\\HOME4400\\PycharmProjects\\AutomateTheBoringStuff\\Chapter8_ReadingAndWritingFiles\\.git\\objects\\be\n",
      "FILE INSIDE C:\\Users\\HOME4400\\PycharmProjects\\AutomateTheBoringStuff\\Chapter8_ReadingAndWritingFiles\\.git\\objects\\be: 538a2906951f059fcf36ee07dd5ef7d9adef57\n",
      "\n",
      "The current folder is C:\\Users\\HOME4400\\PycharmProjects\\AutomateTheBoringStuff\\Chapter8_ReadingAndWritingFiles\\.git\\objects\\c0\n",
      "FILE INSIDE C:\\Users\\HOME4400\\PycharmProjects\\AutomateTheBoringStuff\\Chapter8_ReadingAndWritingFiles\\.git\\objects\\c0: 3047087b46c3ede9cfe979d4a28693c50771e7\n",
      "\n",
      "The current folder is C:\\Users\\HOME4400\\PycharmProjects\\AutomateTheBoringStuff\\Chapter8_ReadingAndWritingFiles\\.git\\objects\\c2\n",
      "FILE INSIDE C:\\Users\\HOME4400\\PycharmProjects\\AutomateTheBoringStuff\\Chapter8_ReadingAndWritingFiles\\.git\\objects\\c2: 52aa87e8ca13ea3cd1d80bfe50a574f485b29b\n",
      "\n",
      "The current folder is C:\\Users\\HOME4400\\PycharmProjects\\AutomateTheBoringStuff\\Chapter8_ReadingAndWritingFiles\\.git\\objects\\c6\n",
      "FILE INSIDE C:\\Users\\HOME4400\\PycharmProjects\\AutomateTheBoringStuff\\Chapter8_ReadingAndWritingFiles\\.git\\objects\\c6: a94ba268787aaeafa87e1e37ee2d357ffce20e\n",
      "\n",
      "The current folder is C:\\Users\\HOME4400\\PycharmProjects\\AutomateTheBoringStuff\\Chapter8_ReadingAndWritingFiles\\.git\\objects\\ca\n",
      "FILE INSIDE C:\\Users\\HOME4400\\PycharmProjects\\AutomateTheBoringStuff\\Chapter8_ReadingAndWritingFiles\\.git\\objects\\ca: 84ac67c6a6a3e724e21ee3f24a6c07fc7512f6\n",
      "\n",
      "The current folder is C:\\Users\\HOME4400\\PycharmProjects\\AutomateTheBoringStuff\\Chapter8_ReadingAndWritingFiles\\.git\\objects\\d7\n",
      "FILE INSIDE C:\\Users\\HOME4400\\PycharmProjects\\AutomateTheBoringStuff\\Chapter8_ReadingAndWritingFiles\\.git\\objects\\d7: 26e5df8ce68d7fc6ce1dcd04769d53aaed0f10\n",
      "\n",
      "The current folder is C:\\Users\\HOME4400\\PycharmProjects\\AutomateTheBoringStuff\\Chapter8_ReadingAndWritingFiles\\.git\\objects\\de\n",
      "FILE INSIDE C:\\Users\\HOME4400\\PycharmProjects\\AutomateTheBoringStuff\\Chapter8_ReadingAndWritingFiles\\.git\\objects\\de: 1a7ff448abcbb08a5b9f6f2f7e12c28f67e133\n",
      "\n",
      "The current folder is C:\\Users\\HOME4400\\PycharmProjects\\AutomateTheBoringStuff\\Chapter8_ReadingAndWritingFiles\\.git\\objects\\df\n",
      "FILE INSIDE C:\\Users\\HOME4400\\PycharmProjects\\AutomateTheBoringStuff\\Chapter8_ReadingAndWritingFiles\\.git\\objects\\df: 9ca017c3724182bdbefd81a0ba244518dcc3ee\n",
      "\n",
      "The current folder is C:\\Users\\HOME4400\\PycharmProjects\\AutomateTheBoringStuff\\Chapter8_ReadingAndWritingFiles\\.git\\objects\\e4\n",
      "FILE INSIDE C:\\Users\\HOME4400\\PycharmProjects\\AutomateTheBoringStuff\\Chapter8_ReadingAndWritingFiles\\.git\\objects\\e4: ae5be1a1ef686a2bff22a7ad1f403c4dbfa551\n",
      "\n",
      "The current folder is C:\\Users\\HOME4400\\PycharmProjects\\AutomateTheBoringStuff\\Chapter8_ReadingAndWritingFiles\\.git\\objects\\e5\n",
      "FILE INSIDE C:\\Users\\HOME4400\\PycharmProjects\\AutomateTheBoringStuff\\Chapter8_ReadingAndWritingFiles\\.git\\objects\\e5: 364ce56a70d72f3b55784967874925f7931b24\n",
      "\n",
      "The current folder is C:\\Users\\HOME4400\\PycharmProjects\\AutomateTheBoringStuff\\Chapter8_ReadingAndWritingFiles\\.git\\objects\\e6\n",
      "FILE INSIDE C:\\Users\\HOME4400\\PycharmProjects\\AutomateTheBoringStuff\\Chapter8_ReadingAndWritingFiles\\.git\\objects\\e6: 6ae92711741e4b9c0bed70947eda57255777a3\n",
      "FILE INSIDE C:\\Users\\HOME4400\\PycharmProjects\\AutomateTheBoringStuff\\Chapter8_ReadingAndWritingFiles\\.git\\objects\\e6: 9de29bb2d1d6434b8b29ae775ad8c2e48c5391\n",
      "\n",
      "The current folder is C:\\Users\\HOME4400\\PycharmProjects\\AutomateTheBoringStuff\\Chapter8_ReadingAndWritingFiles\\.git\\objects\\ed\n",
      "FILE INSIDE C:\\Users\\HOME4400\\PycharmProjects\\AutomateTheBoringStuff\\Chapter8_ReadingAndWritingFiles\\.git\\objects\\ed: 4ad00577172df03223df2d9af7da79627e3968\n",
      "\n",
      "The current folder is C:\\Users\\HOME4400\\PycharmProjects\\AutomateTheBoringStuff\\Chapter8_ReadingAndWritingFiles\\.git\\objects\\ef\n",
      "FILE INSIDE C:\\Users\\HOME4400\\PycharmProjects\\AutomateTheBoringStuff\\Chapter8_ReadingAndWritingFiles\\.git\\objects\\ef: ae47f79707b4221441cf63db01a9e2127e8184\n",
      "\n",
      "The current folder is C:\\Users\\HOME4400\\PycharmProjects\\AutomateTheBoringStuff\\Chapter8_ReadingAndWritingFiles\\.git\\objects\\f0\n",
      "FILE INSIDE C:\\Users\\HOME4400\\PycharmProjects\\AutomateTheBoringStuff\\Chapter8_ReadingAndWritingFiles\\.git\\objects\\f0: d5651363b3497131aeed0cc7317e23c6365dd2\n",
      "\n",
      "The current folder is C:\\Users\\HOME4400\\PycharmProjects\\AutomateTheBoringStuff\\Chapter8_ReadingAndWritingFiles\\.git\\objects\\f4\n",
      "FILE INSIDE C:\\Users\\HOME4400\\PycharmProjects\\AutomateTheBoringStuff\\Chapter8_ReadingAndWritingFiles\\.git\\objects\\f4: 870e45d4d45c35fb844001b00a355dc50447e7\n",
      "\n",
      "The current folder is C:\\Users\\HOME4400\\PycharmProjects\\AutomateTheBoringStuff\\Chapter8_ReadingAndWritingFiles\\.git\\objects\\info\n",
      "\n",
      "The current folder is C:\\Users\\HOME4400\\PycharmProjects\\AutomateTheBoringStuff\\Chapter8_ReadingAndWritingFiles\\.git\\objects\\pack\n",
      "\n",
      "The current folder is C:\\Users\\HOME4400\\PycharmProjects\\AutomateTheBoringStuff\\Chapter8_ReadingAndWritingFiles\\.git\\refs\n",
      "SUBFOLDER OF C:\\Users\\HOME4400\\PycharmProjects\\AutomateTheBoringStuff\\Chapter8_ReadingAndWritingFiles\\.git\\refs: heads\n",
      "SUBFOLDER OF C:\\Users\\HOME4400\\PycharmProjects\\AutomateTheBoringStuff\\Chapter8_ReadingAndWritingFiles\\.git\\refs: remotes\n",
      "SUBFOLDER OF C:\\Users\\HOME4400\\PycharmProjects\\AutomateTheBoringStuff\\Chapter8_ReadingAndWritingFiles\\.git\\refs: tags\n",
      "\n",
      "The current folder is C:\\Users\\HOME4400\\PycharmProjects\\AutomateTheBoringStuff\\Chapter8_ReadingAndWritingFiles\\.git\\refs\\heads\n",
      "FILE INSIDE C:\\Users\\HOME4400\\PycharmProjects\\AutomateTheBoringStuff\\Chapter8_ReadingAndWritingFiles\\.git\\refs\\heads: master\n",
      "FILE INSIDE C:\\Users\\HOME4400\\PycharmProjects\\AutomateTheBoringStuff\\Chapter8_ReadingAndWritingFiles\\.git\\refs\\heads: new\n",
      "\n",
      "The current folder is C:\\Users\\HOME4400\\PycharmProjects\\AutomateTheBoringStuff\\Chapter8_ReadingAndWritingFiles\\.git\\refs\\remotes\n",
      "SUBFOLDER OF C:\\Users\\HOME4400\\PycharmProjects\\AutomateTheBoringStuff\\Chapter8_ReadingAndWritingFiles\\.git\\refs\\remotes: origin\n",
      "\n",
      "The current folder is C:\\Users\\HOME4400\\PycharmProjects\\AutomateTheBoringStuff\\Chapter8_ReadingAndWritingFiles\\.git\\refs\\remotes\\origin\n",
      "FILE INSIDE C:\\Users\\HOME4400\\PycharmProjects\\AutomateTheBoringStuff\\Chapter8_ReadingAndWritingFiles\\.git\\refs\\remotes\\origin: master\n",
      "\n",
      "The current folder is C:\\Users\\HOME4400\\PycharmProjects\\AutomateTheBoringStuff\\Chapter8_ReadingAndWritingFiles\\.git\\refs\\tags\n",
      "\n",
      "The current folder is C:\\Users\\HOME4400\\PycharmProjects\\AutomateTheBoringStuff\\Chapter8_ReadingAndWritingFiles\\.idea\n",
      "FILE INSIDE C:\\Users\\HOME4400\\PycharmProjects\\AutomateTheBoringStuff\\Chapter8_ReadingAndWritingFiles\\.idea: Chapter8_ReadingAndWritingFiles.iml\n",
      "FILE INSIDE C:\\Users\\HOME4400\\PycharmProjects\\AutomateTheBoringStuff\\Chapter8_ReadingAndWritingFiles\\.idea: misc.xml\n",
      "FILE INSIDE C:\\Users\\HOME4400\\PycharmProjects\\AutomateTheBoringStuff\\Chapter8_ReadingAndWritingFiles\\.idea: modules.xml\n",
      "FILE INSIDE C:\\Users\\HOME4400\\PycharmProjects\\AutomateTheBoringStuff\\Chapter8_ReadingAndWritingFiles\\.idea: vcs.xml\n",
      "FILE INSIDE C:\\Users\\HOME4400\\PycharmProjects\\AutomateTheBoringStuff\\Chapter8_ReadingAndWritingFiles\\.idea: workspace.xml\n",
      "\n",
      "The current folder is C:\\Users\\HOME4400\\PycharmProjects\\AutomateTheBoringStuff\\Chapter8_ReadingAndWritingFiles\\.ipynb_checkpoints\n",
      "FILE INSIDE C:\\Users\\HOME4400\\PycharmProjects\\AutomateTheBoringStuff\\Chapter8_ReadingAndWritingFiles\\.ipynb_checkpoints: Chapter8_ShellWork-checkpoint.ipynb\n",
      "FILE INSIDE C:\\Users\\HOME4400\\PycharmProjects\\AutomateTheBoringStuff\\Chapter8_ReadingAndWritingFiles\\.ipynb_checkpoints: MatplotlibExample-checkpoint.ipynb\n",
      "\n",
      "The current folder is C:\\Users\\HOME4400\\PycharmProjects\\AutomateTheBoringStuff\\Chapter8_ReadingAndWritingFiles\\delicious\n",
      "SUBFOLDER OF C:\\Users\\HOME4400\\PycharmProjects\\AutomateTheBoringStuff\\Chapter8_ReadingAndWritingFiles\\delicious: walnut\n",
      "\n",
      "The current folder is C:\\Users\\HOME4400\\PycharmProjects\\AutomateTheBoringStuff\\Chapter8_ReadingAndWritingFiles\\delicious\\walnut\n",
      "SUBFOLDER OF C:\\Users\\HOME4400\\PycharmProjects\\AutomateTheBoringStuff\\Chapter8_ReadingAndWritingFiles\\delicious\\walnut: waffles\n",
      "\n",
      "The current folder is C:\\Users\\HOME4400\\PycharmProjects\\AutomateTheBoringStuff\\Chapter8_ReadingAndWritingFiles\\delicious\\walnut\\waffles\n",
      "\n",
      "The current folder is C:\\Users\\HOME4400\\PycharmProjects\\AutomateTheBoringStuff\\Chapter8_ReadingAndWritingFiles\\Project_MadLibs\n",
      "FILE INSIDE C:\\Users\\HOME4400\\PycharmProjects\\AutomateTheBoringStuff\\Chapter8_ReadingAndWritingFiles\\Project_MadLibs: madlibs.py\n",
      "FILE INSIDE C:\\Users\\HOME4400\\PycharmProjects\\AutomateTheBoringStuff\\Chapter8_ReadingAndWritingFiles\\Project_MadLibs: madlibs.txt\n",
      "FILE INSIDE C:\\Users\\HOME4400\\PycharmProjects\\AutomateTheBoringStuff\\Chapter8_ReadingAndWritingFiles\\Project_MadLibs: madlibsoutput.txt\n",
      "\n",
      "The current folder is C:\\Users\\HOME4400\\PycharmProjects\\AutomateTheBoringStuff\\Chapter8_ReadingAndWritingFiles\\Project_mcb\n",
      "FILE INSIDE C:\\Users\\HOME4400\\PycharmProjects\\AutomateTheBoringStuff\\Chapter8_ReadingAndWritingFiles\\Project_mcb: mcb.bak\n",
      "FILE INSIDE C:\\Users\\HOME4400\\PycharmProjects\\AutomateTheBoringStuff\\Chapter8_ReadingAndWritingFiles\\Project_mcb: mcb.dat\n",
      "FILE INSIDE C:\\Users\\HOME4400\\PycharmProjects\\AutomateTheBoringStuff\\Chapter8_ReadingAndWritingFiles\\Project_mcb: mcb.dir\n",
      "FILE INSIDE C:\\Users\\HOME4400\\PycharmProjects\\AutomateTheBoringStuff\\Chapter8_ReadingAndWritingFiles\\Project_mcb: mcb.pyw\n",
      "\n",
      "The current folder is C:\\Users\\HOME4400\\PycharmProjects\\AutomateTheBoringStuff\\Chapter8_ReadingAndWritingFiles\\Project_RegexSearch\n",
      "FILE INSIDE C:\\Users\\HOME4400\\PycharmProjects\\AutomateTheBoringStuff\\Chapter8_ReadingAndWritingFiles\\Project_RegexSearch: REsearch.py\n",
      "\n",
      "The current folder is C:\\Users\\HOME4400\\PycharmProjects\\AutomateTheBoringStuff\\Chapter8_ReadingAndWritingFiles\\randomQuizGenerator\n",
      "FILE INSIDE C:\\Users\\HOME4400\\PycharmProjects\\AutomateTheBoringStuff\\Chapter8_ReadingAndWritingFiles\\randomQuizGenerator: capitalsquiz1.txt\n",
      "FILE INSIDE C:\\Users\\HOME4400\\PycharmProjects\\AutomateTheBoringStuff\\Chapter8_ReadingAndWritingFiles\\randomQuizGenerator: capitalsquiz10.txt\n",
      "FILE INSIDE C:\\Users\\HOME4400\\PycharmProjects\\AutomateTheBoringStuff\\Chapter8_ReadingAndWritingFiles\\randomQuizGenerator: capitalsquiz11.txt\n",
      "FILE INSIDE C:\\Users\\HOME4400\\PycharmProjects\\AutomateTheBoringStuff\\Chapter8_ReadingAndWritingFiles\\randomQuizGenerator: capitalsquiz12.txt\n",
      "FILE INSIDE C:\\Users\\HOME4400\\PycharmProjects\\AutomateTheBoringStuff\\Chapter8_ReadingAndWritingFiles\\randomQuizGenerator: capitalsquiz13.txt\n",
      "FILE INSIDE C:\\Users\\HOME4400\\PycharmProjects\\AutomateTheBoringStuff\\Chapter8_ReadingAndWritingFiles\\randomQuizGenerator: capitalsquiz14.txt\n",
      "FILE INSIDE C:\\Users\\HOME4400\\PycharmProjects\\AutomateTheBoringStuff\\Chapter8_ReadingAndWritingFiles\\randomQuizGenerator: capitalsquiz15.txt\n",
      "FILE INSIDE C:\\Users\\HOME4400\\PycharmProjects\\AutomateTheBoringStuff\\Chapter8_ReadingAndWritingFiles\\randomQuizGenerator: capitalsquiz16.txt\n",
      "FILE INSIDE C:\\Users\\HOME4400\\PycharmProjects\\AutomateTheBoringStuff\\Chapter8_ReadingAndWritingFiles\\randomQuizGenerator: capitalsquiz17.txt\n",
      "FILE INSIDE C:\\Users\\HOME4400\\PycharmProjects\\AutomateTheBoringStuff\\Chapter8_ReadingAndWritingFiles\\randomQuizGenerator: capitalsquiz18.txt\n",
      "FILE INSIDE C:\\Users\\HOME4400\\PycharmProjects\\AutomateTheBoringStuff\\Chapter8_ReadingAndWritingFiles\\randomQuizGenerator: capitalsquiz19.txt\n",
      "FILE INSIDE C:\\Users\\HOME4400\\PycharmProjects\\AutomateTheBoringStuff\\Chapter8_ReadingAndWritingFiles\\randomQuizGenerator: capitalsquiz2.txt\n",
      "FILE INSIDE C:\\Users\\HOME4400\\PycharmProjects\\AutomateTheBoringStuff\\Chapter8_ReadingAndWritingFiles\\randomQuizGenerator: capitalsquiz20.txt\n",
      "FILE INSIDE C:\\Users\\HOME4400\\PycharmProjects\\AutomateTheBoringStuff\\Chapter8_ReadingAndWritingFiles\\randomQuizGenerator: capitalsquiz21.txt\n",
      "FILE INSIDE C:\\Users\\HOME4400\\PycharmProjects\\AutomateTheBoringStuff\\Chapter8_ReadingAndWritingFiles\\randomQuizGenerator: capitalsquiz22.txt\n",
      "FILE INSIDE C:\\Users\\HOME4400\\PycharmProjects\\AutomateTheBoringStuff\\Chapter8_ReadingAndWritingFiles\\randomQuizGenerator: capitalsquiz23.txt\n",
      "FILE INSIDE C:\\Users\\HOME4400\\PycharmProjects\\AutomateTheBoringStuff\\Chapter8_ReadingAndWritingFiles\\randomQuizGenerator: capitalsquiz24.txt\n",
      "FILE INSIDE C:\\Users\\HOME4400\\PycharmProjects\\AutomateTheBoringStuff\\Chapter8_ReadingAndWritingFiles\\randomQuizGenerator: capitalsquiz25.txt\n",
      "FILE INSIDE C:\\Users\\HOME4400\\PycharmProjects\\AutomateTheBoringStuff\\Chapter8_ReadingAndWritingFiles\\randomQuizGenerator: capitalsquiz26.txt\n",
      "FILE INSIDE C:\\Users\\HOME4400\\PycharmProjects\\AutomateTheBoringStuff\\Chapter8_ReadingAndWritingFiles\\randomQuizGenerator: capitalsquiz27.txt\n",
      "FILE INSIDE C:\\Users\\HOME4400\\PycharmProjects\\AutomateTheBoringStuff\\Chapter8_ReadingAndWritingFiles\\randomQuizGenerator: capitalsquiz28.txt\n",
      "FILE INSIDE C:\\Users\\HOME4400\\PycharmProjects\\AutomateTheBoringStuff\\Chapter8_ReadingAndWritingFiles\\randomQuizGenerator: capitalsquiz29.txt\n",
      "FILE INSIDE C:\\Users\\HOME4400\\PycharmProjects\\AutomateTheBoringStuff\\Chapter8_ReadingAndWritingFiles\\randomQuizGenerator: capitalsquiz3.txt\n",
      "FILE INSIDE C:\\Users\\HOME4400\\PycharmProjects\\AutomateTheBoringStuff\\Chapter8_ReadingAndWritingFiles\\randomQuizGenerator: capitalsquiz30.txt\n",
      "FILE INSIDE C:\\Users\\HOME4400\\PycharmProjects\\AutomateTheBoringStuff\\Chapter8_ReadingAndWritingFiles\\randomQuizGenerator: capitalsquiz31.txt\n",
      "FILE INSIDE C:\\Users\\HOME4400\\PycharmProjects\\AutomateTheBoringStuff\\Chapter8_ReadingAndWritingFiles\\randomQuizGenerator: capitalsquiz32.txt\n",
      "FILE INSIDE C:\\Users\\HOME4400\\PycharmProjects\\AutomateTheBoringStuff\\Chapter8_ReadingAndWritingFiles\\randomQuizGenerator: capitalsquiz33.txt\n",
      "FILE INSIDE C:\\Users\\HOME4400\\PycharmProjects\\AutomateTheBoringStuff\\Chapter8_ReadingAndWritingFiles\\randomQuizGenerator: capitalsquiz34.txt\n",
      "FILE INSIDE C:\\Users\\HOME4400\\PycharmProjects\\AutomateTheBoringStuff\\Chapter8_ReadingAndWritingFiles\\randomQuizGenerator: capitalsquiz35.txt\n",
      "FILE INSIDE C:\\Users\\HOME4400\\PycharmProjects\\AutomateTheBoringStuff\\Chapter8_ReadingAndWritingFiles\\randomQuizGenerator: capitalsquiz4.txt\n",
      "FILE INSIDE C:\\Users\\HOME4400\\PycharmProjects\\AutomateTheBoringStuff\\Chapter8_ReadingAndWritingFiles\\randomQuizGenerator: capitalsquiz5.txt\n",
      "FILE INSIDE C:\\Users\\HOME4400\\PycharmProjects\\AutomateTheBoringStuff\\Chapter8_ReadingAndWritingFiles\\randomQuizGenerator: capitalsquiz6.txt\n",
      "FILE INSIDE C:\\Users\\HOME4400\\PycharmProjects\\AutomateTheBoringStuff\\Chapter8_ReadingAndWritingFiles\\randomQuizGenerator: capitalsquiz7.txt\n",
      "FILE INSIDE C:\\Users\\HOME4400\\PycharmProjects\\AutomateTheBoringStuff\\Chapter8_ReadingAndWritingFiles\\randomQuizGenerator: capitalsquiz8.txt\n",
      "FILE INSIDE C:\\Users\\HOME4400\\PycharmProjects\\AutomateTheBoringStuff\\Chapter8_ReadingAndWritingFiles\\randomQuizGenerator: capitalsquiz9.txt\n",
      "FILE INSIDE C:\\Users\\HOME4400\\PycharmProjects\\AutomateTheBoringStuff\\Chapter8_ReadingAndWritingFiles\\randomQuizGenerator: capitalsquiz_answers1.txt\n",
      "FILE INSIDE C:\\Users\\HOME4400\\PycharmProjects\\AutomateTheBoringStuff\\Chapter8_ReadingAndWritingFiles\\randomQuizGenerator: capitalsquiz_answers10.txt\n",
      "FILE INSIDE C:\\Users\\HOME4400\\PycharmProjects\\AutomateTheBoringStuff\\Chapter8_ReadingAndWritingFiles\\randomQuizGenerator: capitalsquiz_answers11.txt\n",
      "FILE INSIDE C:\\Users\\HOME4400\\PycharmProjects\\AutomateTheBoringStuff\\Chapter8_ReadingAndWritingFiles\\randomQuizGenerator: capitalsquiz_answers12.txt\n",
      "FILE INSIDE C:\\Users\\HOME4400\\PycharmProjects\\AutomateTheBoringStuff\\Chapter8_ReadingAndWritingFiles\\randomQuizGenerator: capitalsquiz_answers13.txt\n",
      "FILE INSIDE C:\\Users\\HOME4400\\PycharmProjects\\AutomateTheBoringStuff\\Chapter8_ReadingAndWritingFiles\\randomQuizGenerator: capitalsquiz_answers14.txt\n",
      "FILE INSIDE C:\\Users\\HOME4400\\PycharmProjects\\AutomateTheBoringStuff\\Chapter8_ReadingAndWritingFiles\\randomQuizGenerator: capitalsquiz_answers15.txt\n",
      "FILE INSIDE C:\\Users\\HOME4400\\PycharmProjects\\AutomateTheBoringStuff\\Chapter8_ReadingAndWritingFiles\\randomQuizGenerator: capitalsquiz_answers16.txt\n",
      "FILE INSIDE C:\\Users\\HOME4400\\PycharmProjects\\AutomateTheBoringStuff\\Chapter8_ReadingAndWritingFiles\\randomQuizGenerator: capitalsquiz_answers17.txt\n",
      "FILE INSIDE C:\\Users\\HOME4400\\PycharmProjects\\AutomateTheBoringStuff\\Chapter8_ReadingAndWritingFiles\\randomQuizGenerator: capitalsquiz_answers18.txt\n",
      "FILE INSIDE C:\\Users\\HOME4400\\PycharmProjects\\AutomateTheBoringStuff\\Chapter8_ReadingAndWritingFiles\\randomQuizGenerator: capitalsquiz_answers19.txt\n",
      "FILE INSIDE C:\\Users\\HOME4400\\PycharmProjects\\AutomateTheBoringStuff\\Chapter8_ReadingAndWritingFiles\\randomQuizGenerator: capitalsquiz_answers2.txt\n",
      "FILE INSIDE C:\\Users\\HOME4400\\PycharmProjects\\AutomateTheBoringStuff\\Chapter8_ReadingAndWritingFiles\\randomQuizGenerator: capitalsquiz_answers20.txt\n",
      "FILE INSIDE C:\\Users\\HOME4400\\PycharmProjects\\AutomateTheBoringStuff\\Chapter8_ReadingAndWritingFiles\\randomQuizGenerator: capitalsquiz_answers21.txt\n",
      "FILE INSIDE C:\\Users\\HOME4400\\PycharmProjects\\AutomateTheBoringStuff\\Chapter8_ReadingAndWritingFiles\\randomQuizGenerator: capitalsquiz_answers22.txt\n",
      "FILE INSIDE C:\\Users\\HOME4400\\PycharmProjects\\AutomateTheBoringStuff\\Chapter8_ReadingAndWritingFiles\\randomQuizGenerator: capitalsquiz_answers23.txt\n",
      "FILE INSIDE C:\\Users\\HOME4400\\PycharmProjects\\AutomateTheBoringStuff\\Chapter8_ReadingAndWritingFiles\\randomQuizGenerator: capitalsquiz_answers24.txt\n",
      "FILE INSIDE C:\\Users\\HOME4400\\PycharmProjects\\AutomateTheBoringStuff\\Chapter8_ReadingAndWritingFiles\\randomQuizGenerator: capitalsquiz_answers25.txt\n",
      "FILE INSIDE C:\\Users\\HOME4400\\PycharmProjects\\AutomateTheBoringStuff\\Chapter8_ReadingAndWritingFiles\\randomQuizGenerator: capitalsquiz_answers26.txt\n",
      "FILE INSIDE C:\\Users\\HOME4400\\PycharmProjects\\AutomateTheBoringStuff\\Chapter8_ReadingAndWritingFiles\\randomQuizGenerator: capitalsquiz_answers27.txt\n",
      "FILE INSIDE C:\\Users\\HOME4400\\PycharmProjects\\AutomateTheBoringStuff\\Chapter8_ReadingAndWritingFiles\\randomQuizGenerator: capitalsquiz_answers28.txt\n",
      "FILE INSIDE C:\\Users\\HOME4400\\PycharmProjects\\AutomateTheBoringStuff\\Chapter8_ReadingAndWritingFiles\\randomQuizGenerator: capitalsquiz_answers29.txt\n",
      "FILE INSIDE C:\\Users\\HOME4400\\PycharmProjects\\AutomateTheBoringStuff\\Chapter8_ReadingAndWritingFiles\\randomQuizGenerator: capitalsquiz_answers3.txt\n",
      "FILE INSIDE C:\\Users\\HOME4400\\PycharmProjects\\AutomateTheBoringStuff\\Chapter8_ReadingAndWritingFiles\\randomQuizGenerator: capitalsquiz_answers30.txt\n",
      "FILE INSIDE C:\\Users\\HOME4400\\PycharmProjects\\AutomateTheBoringStuff\\Chapter8_ReadingAndWritingFiles\\randomQuizGenerator: capitalsquiz_answers31.txt\n",
      "FILE INSIDE C:\\Users\\HOME4400\\PycharmProjects\\AutomateTheBoringStuff\\Chapter8_ReadingAndWritingFiles\\randomQuizGenerator: capitalsquiz_answers32.txt\n",
      "FILE INSIDE C:\\Users\\HOME4400\\PycharmProjects\\AutomateTheBoringStuff\\Chapter8_ReadingAndWritingFiles\\randomQuizGenerator: capitalsquiz_answers33.txt\n",
      "FILE INSIDE C:\\Users\\HOME4400\\PycharmProjects\\AutomateTheBoringStuff\\Chapter8_ReadingAndWritingFiles\\randomQuizGenerator: capitalsquiz_answers34.txt\n",
      "FILE INSIDE C:\\Users\\HOME4400\\PycharmProjects\\AutomateTheBoringStuff\\Chapter8_ReadingAndWritingFiles\\randomQuizGenerator: capitalsquiz_answers35.txt\n",
      "FILE INSIDE C:\\Users\\HOME4400\\PycharmProjects\\AutomateTheBoringStuff\\Chapter8_ReadingAndWritingFiles\\randomQuizGenerator: capitalsquiz_answers4.txt\n",
      "FILE INSIDE C:\\Users\\HOME4400\\PycharmProjects\\AutomateTheBoringStuff\\Chapter8_ReadingAndWritingFiles\\randomQuizGenerator: capitalsquiz_answers5.txt\n",
      "FILE INSIDE C:\\Users\\HOME4400\\PycharmProjects\\AutomateTheBoringStuff\\Chapter8_ReadingAndWritingFiles\\randomQuizGenerator: capitalsquiz_answers6.txt\n",
      "FILE INSIDE C:\\Users\\HOME4400\\PycharmProjects\\AutomateTheBoringStuff\\Chapter8_ReadingAndWritingFiles\\randomQuizGenerator: capitalsquiz_answers7.txt\n",
      "FILE INSIDE C:\\Users\\HOME4400\\PycharmProjects\\AutomateTheBoringStuff\\Chapter8_ReadingAndWritingFiles\\randomQuizGenerator: capitalsquiz_answers8.txt\n",
      "FILE INSIDE C:\\Users\\HOME4400\\PycharmProjects\\AutomateTheBoringStuff\\Chapter8_ReadingAndWritingFiles\\randomQuizGenerator: capitalsquiz_answers9.txt\n",
      "FILE INSIDE C:\\Users\\HOME4400\\PycharmProjects\\AutomateTheBoringStuff\\Chapter8_ReadingAndWritingFiles\\randomQuizGenerator: randomQuizGenerator.py\n",
      "\n",
      "The current folder is C:\\Users\\HOME4400\\PycharmProjects\\AutomateTheBoringStuff\\Chapter8_ReadingAndWritingFiles\\__pycache__\n",
      "FILE INSIDE C:\\Users\\HOME4400\\PycharmProjects\\AutomateTheBoringStuff\\Chapter8_ReadingAndWritingFiles\\__pycache__: myCats.cpython-35.pyc\n",
      "\n",
      "The current folder is C:\\Users\\HOME4400\\PycharmProjects\\AutomateTheBoringStuff\\Chapter9_OrganizingFiles\n",
      "SUBFOLDER OF C:\\Users\\HOME4400\\PycharmProjects\\AutomateTheBoringStuff\\Chapter9_OrganizingFiles: .git\n",
      "SUBFOLDER OF C:\\Users\\HOME4400\\PycharmProjects\\AutomateTheBoringStuff\\Chapter9_OrganizingFiles: .idea\n",
      "SUBFOLDER OF C:\\Users\\HOME4400\\PycharmProjects\\AutomateTheBoringStuff\\Chapter9_OrganizingFiles: .ipynb_checkpoints\n",
      "FILE INSIDE C:\\Users\\HOME4400\\PycharmProjects\\AutomateTheBoringStuff\\Chapter9_OrganizingFiles: Chapter9_ShellWork.ipynb\n",
      "\n",
      "The current folder is C:\\Users\\HOME4400\\PycharmProjects\\AutomateTheBoringStuff\\Chapter9_OrganizingFiles\\.git\n",
      "SUBFOLDER OF C:\\Users\\HOME4400\\PycharmProjects\\AutomateTheBoringStuff\\Chapter9_OrganizingFiles\\.git: hooks\n",
      "SUBFOLDER OF C:\\Users\\HOME4400\\PycharmProjects\\AutomateTheBoringStuff\\Chapter9_OrganizingFiles\\.git: info\n",
      "SUBFOLDER OF C:\\Users\\HOME4400\\PycharmProjects\\AutomateTheBoringStuff\\Chapter9_OrganizingFiles\\.git: objects\n",
      "SUBFOLDER OF C:\\Users\\HOME4400\\PycharmProjects\\AutomateTheBoringStuff\\Chapter9_OrganizingFiles\\.git: refs\n",
      "FILE INSIDE C:\\Users\\HOME4400\\PycharmProjects\\AutomateTheBoringStuff\\Chapter9_OrganizingFiles\\.git: config\n",
      "FILE INSIDE C:\\Users\\HOME4400\\PycharmProjects\\AutomateTheBoringStuff\\Chapter9_OrganizingFiles\\.git: description\n",
      "FILE INSIDE C:\\Users\\HOME4400\\PycharmProjects\\AutomateTheBoringStuff\\Chapter9_OrganizingFiles\\.git: HEAD\n",
      "\n",
      "The current folder is C:\\Users\\HOME4400\\PycharmProjects\\AutomateTheBoringStuff\\Chapter9_OrganizingFiles\\.git\\hooks\n",
      "FILE INSIDE C:\\Users\\HOME4400\\PycharmProjects\\AutomateTheBoringStuff\\Chapter9_OrganizingFiles\\.git\\hooks: applypatch-msg.sample\n",
      "FILE INSIDE C:\\Users\\HOME4400\\PycharmProjects\\AutomateTheBoringStuff\\Chapter9_OrganizingFiles\\.git\\hooks: commit-msg.sample\n",
      "FILE INSIDE C:\\Users\\HOME4400\\PycharmProjects\\AutomateTheBoringStuff\\Chapter9_OrganizingFiles\\.git\\hooks: post-update.sample\n",
      "FILE INSIDE C:\\Users\\HOME4400\\PycharmProjects\\AutomateTheBoringStuff\\Chapter9_OrganizingFiles\\.git\\hooks: pre-applypatch.sample\n",
      "FILE INSIDE C:\\Users\\HOME4400\\PycharmProjects\\AutomateTheBoringStuff\\Chapter9_OrganizingFiles\\.git\\hooks: pre-commit.sample\n",
      "FILE INSIDE C:\\Users\\HOME4400\\PycharmProjects\\AutomateTheBoringStuff\\Chapter9_OrganizingFiles\\.git\\hooks: pre-push.sample\n",
      "FILE INSIDE C:\\Users\\HOME4400\\PycharmProjects\\AutomateTheBoringStuff\\Chapter9_OrganizingFiles\\.git\\hooks: pre-rebase.sample\n",
      "FILE INSIDE C:\\Users\\HOME4400\\PycharmProjects\\AutomateTheBoringStuff\\Chapter9_OrganizingFiles\\.git\\hooks: pre-receive.sample\n",
      "FILE INSIDE C:\\Users\\HOME4400\\PycharmProjects\\AutomateTheBoringStuff\\Chapter9_OrganizingFiles\\.git\\hooks: prepare-commit-msg.sample\n",
      "FILE INSIDE C:\\Users\\HOME4400\\PycharmProjects\\AutomateTheBoringStuff\\Chapter9_OrganizingFiles\\.git\\hooks: update.sample\n",
      "\n",
      "The current folder is C:\\Users\\HOME4400\\PycharmProjects\\AutomateTheBoringStuff\\Chapter9_OrganizingFiles\\.git\\info\n",
      "FILE INSIDE C:\\Users\\HOME4400\\PycharmProjects\\AutomateTheBoringStuff\\Chapter9_OrganizingFiles\\.git\\info: exclude\n",
      "\n",
      "The current folder is C:\\Users\\HOME4400\\PycharmProjects\\AutomateTheBoringStuff\\Chapter9_OrganizingFiles\\.git\\objects\n",
      "SUBFOLDER OF C:\\Users\\HOME4400\\PycharmProjects\\AutomateTheBoringStuff\\Chapter9_OrganizingFiles\\.git\\objects: info\n",
      "SUBFOLDER OF C:\\Users\\HOME4400\\PycharmProjects\\AutomateTheBoringStuff\\Chapter9_OrganizingFiles\\.git\\objects: pack\n",
      "\n",
      "The current folder is C:\\Users\\HOME4400\\PycharmProjects\\AutomateTheBoringStuff\\Chapter9_OrganizingFiles\\.git\\objects\\info\n",
      "\n",
      "The current folder is C:\\Users\\HOME4400\\PycharmProjects\\AutomateTheBoringStuff\\Chapter9_OrganizingFiles\\.git\\objects\\pack\n",
      "\n",
      "The current folder is C:\\Users\\HOME4400\\PycharmProjects\\AutomateTheBoringStuff\\Chapter9_OrganizingFiles\\.git\\refs\n",
      "SUBFOLDER OF C:\\Users\\HOME4400\\PycharmProjects\\AutomateTheBoringStuff\\Chapter9_OrganizingFiles\\.git\\refs: heads\n",
      "SUBFOLDER OF C:\\Users\\HOME4400\\PycharmProjects\\AutomateTheBoringStuff\\Chapter9_OrganizingFiles\\.git\\refs: tags\n",
      "\n",
      "The current folder is C:\\Users\\HOME4400\\PycharmProjects\\AutomateTheBoringStuff\\Chapter9_OrganizingFiles\\.git\\refs\\heads\n",
      "\n",
      "The current folder is C:\\Users\\HOME4400\\PycharmProjects\\AutomateTheBoringStuff\\Chapter9_OrganizingFiles\\.git\\refs\\tags\n",
      "\n",
      "The current folder is C:\\Users\\HOME4400\\PycharmProjects\\AutomateTheBoringStuff\\Chapter9_OrganizingFiles\\.idea\n",
      "FILE INSIDE C:\\Users\\HOME4400\\PycharmProjects\\AutomateTheBoringStuff\\Chapter9_OrganizingFiles\\.idea: Chapter9_OrganizingFiles.iml\n",
      "FILE INSIDE C:\\Users\\HOME4400\\PycharmProjects\\AutomateTheBoringStuff\\Chapter9_OrganizingFiles\\.idea: misc.xml\n",
      "FILE INSIDE C:\\Users\\HOME4400\\PycharmProjects\\AutomateTheBoringStuff\\Chapter9_OrganizingFiles\\.idea: modules.xml\n",
      "FILE INSIDE C:\\Users\\HOME4400\\PycharmProjects\\AutomateTheBoringStuff\\Chapter9_OrganizingFiles\\.idea: workspace.xml\n",
      "\n",
      "The current folder is C:\\Users\\HOME4400\\PycharmProjects\\AutomateTheBoringStuff\\Chapter9_OrganizingFiles\\.ipynb_checkpoints\n",
      "FILE INSIDE C:\\Users\\HOME4400\\PycharmProjects\\AutomateTheBoringStuff\\Chapter9_OrganizingFiles\\.ipynb_checkpoints: Chapter9_ShellWork-checkpoint.ipynb\n",
      "\n"
     ]
    }
   ],
   "source": [
    "import os\n",
    "path = os.path.abspath('C:/Users/HOME4400/PycharmProjects/AutomateTheBoringStuff/')\n",
    "for folderName, subfolders, filenames in os.walk(path):\n",
    "    print('The current folder is ' + folderName)\n",
    "    \n",
    "    for subfolder in subfolders:\n",
    "        print('SUBFOLDER OF ' + folderName + ': ' + subfolder)\n",
    "    for filename in filenames:\n",
    "        print('FILE INSIDE ' + folderName + ': ' + filename)\n",
    "    \n",
    "    print('')"
   ]
  },
  {
   "cell_type": "code",
   "execution_count": 7,
   "metadata": {
    "collapsed": false
   },
   "outputs": [
    {
     "data": {
      "text/plain": [
       "'C:\\\\Users\\\\HOME4400\\\\PycharmProjects\\\\AutomateTheBoringStuff\\\\Chapter9_OrganizingFiles'"
      ]
     },
     "execution_count": 7,
     "metadata": {},
     "output_type": "execute_result"
    }
   ],
   "source": [
    "import zipfile, os\n",
    "os.getcwd()"
   ]
  },
  {
   "cell_type": "code",
   "execution_count": 8,
   "metadata": {
    "collapsed": true
   },
   "outputs": [],
   "source": [
    "exampleZip = zipfile.ZipFile('example.zip')"
   ]
  },
  {
   "cell_type": "code",
   "execution_count": 9,
   "metadata": {
    "collapsed": false
   },
   "outputs": [
    {
     "data": {
      "text/plain": [
       "['spam.txt', 'cats/', 'cats/catnames.txt', 'cats/zophie.jpg']"
      ]
     },
     "execution_count": 9,
     "metadata": {},
     "output_type": "execute_result"
    }
   ],
   "source": [
    "exampleZip.namelist()"
   ]
  },
  {
   "cell_type": "code",
   "execution_count": 11,
   "metadata": {
    "collapsed": true
   },
   "outputs": [],
   "source": [
    "spamInfo = exampleZip.getinfo('spam.txt')"
   ]
  },
  {
   "cell_type": "code",
   "execution_count": 12,
   "metadata": {
    "collapsed": false
   },
   "outputs": [
    {
     "data": {
      "text/plain": [
       "zipfile.ZipInfo"
      ]
     },
     "execution_count": 12,
     "metadata": {},
     "output_type": "execute_result"
    }
   ],
   "source": [
    "type(spamInfo)"
   ]
  },
  {
   "cell_type": "code",
   "execution_count": 13,
   "metadata": {
    "collapsed": false
   },
   "outputs": [
    {
     "data": {
      "text/plain": [
       "13908"
      ]
     },
     "execution_count": 13,
     "metadata": {},
     "output_type": "execute_result"
    }
   ],
   "source": [
    "spamInfo.file_size"
   ]
  },
  {
   "cell_type": "code",
   "execution_count": 14,
   "metadata": {
    "collapsed": false
   },
   "outputs": [
    {
     "data": {
      "text/plain": [
       "3828"
      ]
     },
     "execution_count": 14,
     "metadata": {},
     "output_type": "execute_result"
    }
   ],
   "source": [
    "spamInfo.compress_size"
   ]
  },
  {
   "cell_type": "code",
   "execution_count": 15,
   "metadata": {
    "collapsed": false
   },
   "outputs": [
    {
     "data": {
      "text/plain": [
       "'Compressed file is 3.63x smaller!'"
      ]
     },
     "execution_count": 15,
     "metadata": {},
     "output_type": "execute_result"
    }
   ],
   "source": [
    "'Compressed file is %sx smaller!' % (round(spamInfo.file_size / spamInfo.compress_size, 2))"
   ]
  },
  {
   "cell_type": "code",
   "execution_count": 16,
   "metadata": {
    "collapsed": true
   },
   "outputs": [],
   "source": [
    "exampleZip.close()"
   ]
  },
  {
   "cell_type": "code",
   "execution_count": 17,
   "metadata": {
    "collapsed": true
   },
   "outputs": [],
   "source": [
    "import zipfile, os\n",
    "exampleZip = zipfile.ZipFile('example.zip')\n",
    "exampleZip.extractall()"
   ]
  },
  {
   "cell_type": "code",
   "execution_count": 18,
   "metadata": {
    "collapsed": true
   },
   "outputs": [],
   "source": [
    "exampleZip.close()"
   ]
  },
  {
   "cell_type": "code",
   "execution_count": 19,
   "metadata": {
    "collapsed": false
   },
   "outputs": [
    {
     "ename": "RuntimeError",
     "evalue": "Attempt to read ZIP archive that was already closed",
     "output_type": "error",
     "traceback": [
      "\u001b[0;31m---------------------------------------------------------------------------\u001b[0m",
      "\u001b[0;31mRuntimeError\u001b[0m                              Traceback (most recent call last)",
      "\u001b[0;32m<ipython-input-19-ba2eb8e4257a>\u001b[0m in \u001b[0;36m<module>\u001b[0;34m()\u001b[0m\n\u001b[0;32m----> 1\u001b[0;31m \u001b[0mexampleZip\u001b[0m\u001b[1;33m.\u001b[0m\u001b[0mextract\u001b[0m\u001b[1;33m(\u001b[0m\u001b[1;34m'spam.txt'\u001b[0m\u001b[1;33m)\u001b[0m\u001b[1;33m\u001b[0m\u001b[0m\n\u001b[0m",
      "\u001b[0;32mC:\\Users\\HOME4400\\Anaconda3\\lib\\zipfile.py\u001b[0m in \u001b[0;36mextract\u001b[0;34m(self, member, path, pwd)\u001b[0m\n\u001b[1;32m   1333\u001b[0m             \u001b[0mpath\u001b[0m \u001b[1;33m=\u001b[0m \u001b[0mos\u001b[0m\u001b[1;33m.\u001b[0m\u001b[0mgetcwd\u001b[0m\u001b[1;33m(\u001b[0m\u001b[1;33m)\u001b[0m\u001b[1;33m\u001b[0m\u001b[0m\n\u001b[1;32m   1334\u001b[0m \u001b[1;33m\u001b[0m\u001b[0m\n\u001b[0;32m-> 1335\u001b[0;31m         \u001b[1;32mreturn\u001b[0m \u001b[0mself\u001b[0m\u001b[1;33m.\u001b[0m\u001b[0m_extract_member\u001b[0m\u001b[1;33m(\u001b[0m\u001b[0mmember\u001b[0m\u001b[1;33m,\u001b[0m \u001b[0mpath\u001b[0m\u001b[1;33m,\u001b[0m \u001b[0mpwd\u001b[0m\u001b[1;33m)\u001b[0m\u001b[1;33m\u001b[0m\u001b[0m\n\u001b[0m\u001b[1;32m   1336\u001b[0m \u001b[1;33m\u001b[0m\u001b[0m\n\u001b[1;32m   1337\u001b[0m     \u001b[1;32mdef\u001b[0m \u001b[0mextractall\u001b[0m\u001b[1;33m(\u001b[0m\u001b[0mself\u001b[0m\u001b[1;33m,\u001b[0m \u001b[0mpath\u001b[0m\u001b[1;33m=\u001b[0m\u001b[1;32mNone\u001b[0m\u001b[1;33m,\u001b[0m \u001b[0mmembers\u001b[0m\u001b[1;33m=\u001b[0m\u001b[1;32mNone\u001b[0m\u001b[1;33m,\u001b[0m \u001b[0mpwd\u001b[0m\u001b[1;33m=\u001b[0m\u001b[1;32mNone\u001b[0m\u001b[1;33m)\u001b[0m\u001b[1;33m:\u001b[0m\u001b[1;33m\u001b[0m\u001b[0m\n",
      "\u001b[0;32mC:\\Users\\HOME4400\\Anaconda3\\lib\\zipfile.py\u001b[0m in \u001b[0;36m_extract_member\u001b[0;34m(self, member, targetpath, pwd)\u001b[0m\n\u001b[1;32m   1395\u001b[0m             \u001b[1;32mreturn\u001b[0m \u001b[0mtargetpath\u001b[0m\u001b[1;33m\u001b[0m\u001b[0m\n\u001b[1;32m   1396\u001b[0m \u001b[1;33m\u001b[0m\u001b[0m\n\u001b[0;32m-> 1397\u001b[0;31m         \u001b[1;32mwith\u001b[0m \u001b[0mself\u001b[0m\u001b[1;33m.\u001b[0m\u001b[0mopen\u001b[0m\u001b[1;33m(\u001b[0m\u001b[0mmember\u001b[0m\u001b[1;33m,\u001b[0m \u001b[0mpwd\u001b[0m\u001b[1;33m=\u001b[0m\u001b[0mpwd\u001b[0m\u001b[1;33m)\u001b[0m \u001b[1;32mas\u001b[0m \u001b[0msource\u001b[0m\u001b[1;33m,\u001b[0m\u001b[0;31m \u001b[0m\u001b[0;31m\\\u001b[0m\u001b[1;33m\u001b[0m\u001b[0m\n\u001b[0m\u001b[1;32m   1398\u001b[0m              \u001b[0mopen\u001b[0m\u001b[1;33m(\u001b[0m\u001b[0mtargetpath\u001b[0m\u001b[1;33m,\u001b[0m \u001b[1;34m\"wb\"\u001b[0m\u001b[1;33m)\u001b[0m \u001b[1;32mas\u001b[0m \u001b[0mtarget\u001b[0m\u001b[1;33m:\u001b[0m\u001b[1;33m\u001b[0m\u001b[0m\n\u001b[1;32m   1399\u001b[0m             \u001b[0mshutil\u001b[0m\u001b[1;33m.\u001b[0m\u001b[0mcopyfileobj\u001b[0m\u001b[1;33m(\u001b[0m\u001b[0msource\u001b[0m\u001b[1;33m,\u001b[0m \u001b[0mtarget\u001b[0m\u001b[1;33m)\u001b[0m\u001b[1;33m\u001b[0m\u001b[0m\n",
      "\u001b[0;32mC:\\Users\\HOME4400\\Anaconda3\\lib\\zipfile.py\u001b[0m in \u001b[0;36mopen\u001b[0;34m(self, name, mode, pwd)\u001b[0m\n\u001b[1;32m   1245\u001b[0m         \u001b[1;32mif\u001b[0m \u001b[1;32mnot\u001b[0m \u001b[0mself\u001b[0m\u001b[1;33m.\u001b[0m\u001b[0mfp\u001b[0m\u001b[1;33m:\u001b[0m\u001b[1;33m\u001b[0m\u001b[0m\n\u001b[1;32m   1246\u001b[0m             raise RuntimeError(\n\u001b[0;32m-> 1247\u001b[0;31m                 \"Attempt to read ZIP archive that was already closed\")\n\u001b[0m\u001b[1;32m   1248\u001b[0m \u001b[1;33m\u001b[0m\u001b[0m\n\u001b[1;32m   1249\u001b[0m         \u001b[1;31m# Make sure we have an info object\u001b[0m\u001b[1;33m\u001b[0m\u001b[1;33m\u001b[0m\u001b[0m\n",
      "\u001b[0;31mRuntimeError\u001b[0m: Attempt to read ZIP archive that was already closed"
     ]
    }
   ],
   "source": [
    "exampleZip.extract('spam.txt')"
   ]
  },
  {
   "cell_type": "code",
   "execution_count": 20,
   "metadata": {
    "collapsed": true
   },
   "outputs": [],
   "source": [
    "exampleZip = zipfile.ZipFile('example.zip')"
   ]
  },
  {
   "cell_type": "code",
   "execution_count": 21,
   "metadata": {
    "collapsed": false
   },
   "outputs": [
    {
     "data": {
      "text/plain": [
       "'C:\\\\Users\\\\HOME4400\\\\PycharmProjects\\\\AutomateTheBoringStuff\\\\Chapter9_OrganizingFiles\\\\spam.txt'"
      ]
     },
     "execution_count": 21,
     "metadata": {},
     "output_type": "execute_result"
    }
   ],
   "source": [
    "exampleZip.extract('spam.txt')"
   ]
  },
  {
   "cell_type": "code",
   "execution_count": 22,
   "metadata": {
    "collapsed": false
   },
   "outputs": [
    {
     "data": {
      "text/plain": [
       "'some\\\\new\\\\folders\\\\spam.txt'"
      ]
     },
     "execution_count": 22,
     "metadata": {},
     "output_type": "execute_result"
    }
   ],
   "source": [
    "exampleZip.extract('spam.txt', '.\\\\some\\\\new\\\\folders')"
   ]
  },
  {
   "cell_type": "code",
   "execution_count": 23,
   "metadata": {
    "collapsed": true
   },
   "outputs": [],
   "source": [
    "exampleZip.close()"
   ]
  },
  {
   "cell_type": "code",
   "execution_count": 24,
   "metadata": {
    "collapsed": true
   },
   "outputs": [],
   "source": [
    "import zipfile\n",
    "newZip = zipfile.ZipFile('new.zip', 'w')"
   ]
  },
  {
   "cell_type": "code",
   "execution_count": 25,
   "metadata": {
    "collapsed": true
   },
   "outputs": [],
   "source": [
    "newZip.write('spam.txt', compress_type=zipfile.ZIP_DEFLATED)"
   ]
  },
  {
   "cell_type": "code",
   "execution_count": 26,
   "metadata": {
    "collapsed": true
   },
   "outputs": [],
   "source": [
    "newZip.close()"
   ]
  },
  {
   "cell_type": "markdown",
   "metadata": {},
   "source": [
    "## Can use append mode instead of write to add addition files to zip file.\n",
    "newZip = zipfile.ZipFile('new.zip', 'a')\n"
   ]
  },
  {
   "cell_type": "code",
   "execution_count": null,
   "metadata": {
    "collapsed": true
   },
   "outputs": [],
   "source": []
  }
 ],
 "metadata": {
  "anaconda-cloud": {},
  "kernelspec": {
   "display_name": "Python [conda root]",
   "language": "python",
   "name": "conda-root-py"
  },
  "language_info": {
   "codemirror_mode": {
    "name": "ipython",
    "version": 3
   },
   "file_extension": ".py",
   "mimetype": "text/x-python",
   "name": "python",
   "nbconvert_exporter": "python",
   "pygments_lexer": "ipython3",
   "version": "3.5.2"
  }
 },
 "nbformat": 4,
 "nbformat_minor": 2
}
